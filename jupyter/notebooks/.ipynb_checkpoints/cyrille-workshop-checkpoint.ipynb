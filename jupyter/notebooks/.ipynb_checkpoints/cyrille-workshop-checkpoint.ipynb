{
 "cells": [
  {
   "cell_type": "code",
   "execution_count": null,
   "metadata": {},
   "outputs": [],
   "source": [
    "!pip install brayns==0.8.0\n",
    "!pip install phaneron==0.1.11"
   ]
  },
  {
   "cell_type": "markdown",
   "metadata": {},
   "source": [
    "# Allocate and start Brayns on BB5"
   ]
  },
  {
   "cell_type": "raw",
   "metadata": {},
   "source": [
    "module purge\n",
    "module load nix/viz/circuit-explorer/latest\n",
    "braynsService --http-server :5000 --plugin braynsCircuitExplorer --module braynsCircuitExplorer"
   ]
  },
  {
   "cell_type": "markdown",
   "metadata": {},
   "source": [
    "# Start scripting!"
   ]
  },
  {
   "cell_type": "code",
   "execution_count": 13,
   "metadata": {},
   "outputs": [],
   "source": [
    "from brayns import Client, __version__ as brayns_version\n",
    "from phaneron import CircuitExplorer, CameraPathHandler, __version__ as phaneron_version"
   ]
  },
  {
   "cell_type": "code",
   "execution_count": null,
   "metadata": {},
   "outputs": [],
   "source": [
    "print('brayns:   ' + brayns_version)\n",
    "print('phaneron: ' + phaneron_version)"
   ]
  },
  {
   "cell_type": "code",
   "execution_count": 49,
   "metadata": {},
   "outputs": [],
   "source": [
    "brayns = Client('r1i7n13.bbp.epfl.ch:5000')\n",
    "circuit_explorer = CircuitExplorer(brayns)"
   ]
  },
  {
   "cell_type": "markdown",
   "metadata": {},
   "source": [
    "## Add mouse brain model"
   ]
  },
  {
   "cell_type": "code",
   "execution_count": 18,
   "metadata": {},
   "outputs": [
    {
     "data": {
      "text/plain": [
       "{'bounding_box': False,\n",
       " 'bounds': {'max': [-1.7976931348623157e+308,\n",
       "   -1.7976931348623157e+308,\n",
       "   -1.7976931348623157e+308],\n",
       "  'min': [1.7976931348623157e+308,\n",
       "   1.7976931348623157e+308,\n",
       "   1.7976931348623157e+308]},\n",
       " 'id': 7,\n",
       " 'metadata': {'faces': '881968', 'meshes': '1', 'vertices': '1763936'},\n",
       " 'name': 'mouse_brain_and_column',\n",
       " 'path': '/gpfs/bbp.cscs.ch/project/proj3/resources/meshes/mouse_brain_and_column/full/mouse_brain_and_column.ply',\n",
       " 'transformation': {'rotation': [0.0, 0.0, 0.0, 1.0],\n",
       "  'rotation_center': [0.0, 0.0, 0.0],\n",
       "  'scale': [1.0, 1.0, 1.0],\n",
       "  'translation': [0.0, 0.0, 0.0]},\n",
       " 'visible': True}"
      ]
     },
     "execution_count": 18,
     "metadata": {},
     "output_type": "execute_result"
    }
   ],
   "source": [
    "brayns.add_model(\n",
    "    path='/gpfs/bbp.cscs.ch/project/proj3/resources/meshes/mouse_brain_and_column/full/mouse_brain_and_column.ply')"
   ]
  },
  {
   "cell_type": "markdown",
   "metadata": {},
   "source": [
    "## List models"
   ]
  },
  {
   "cell_type": "code",
   "execution_count": 58,
   "metadata": {},
   "outputs": [
    {
     "data": {
      "text/plain": [
       "5"
      ]
     },
     "execution_count": 58,
     "metadata": {},
     "output_type": "execute_result"
    }
   ],
   "source": [
    "brayns.scene.models[0][\"id\"]"
   ]
  },
  {
   "cell_type": "markdown",
   "metadata": {},
   "source": [
    "## Materials"
   ]
  },
  {
   "cell_type": "code",
   "execution_count": 62,
   "metadata": {},
   "outputs": [
    {
     "data": {
      "text/plain": [
       "'OK'"
      ]
     },
     "execution_count": 62,
     "metadata": {},
     "output_type": "execute_result"
    }
   ],
   "source": [
    "id=brayns.scene.models[0][\"id\"]\n",
    "circuit_explorer.set_material_extra_attributes(model_id=id)\n",
    "circuit_explorer.set_material(\n",
    "    glossiness=1, opacity=1,\n",
    "    model_id=id, material_id=0, \n",
    "    diffuse_color=(1,0,0),\n",
    "    shading_mode=circuit_explorer.SHADING_MODE_DIFFUSE)"
   ]
  },
  {
   "cell_type": "markdown",
   "metadata": {},
   "source": [
    "## Shading options"
   ]
  },
  {
   "cell_type": "code",
   "execution_count": null,
   "metadata": {},
   "outputs": [],
   "source": [
    "params = brayns.AdvancedSimulationRendererParams()\n",
    "params.shadows=1\n",
    "params.soft_shadows=1\n",
    "params.pixel_alpha=2\n",
    "brayns.set_renderer_params(params)"
   ]
  },
  {
   "cell_type": "code",
   "execution_count": null,
   "metadata": {},
   "outputs": [],
   "source": [
    "brayns.set_environment_map('/gpfs/bbp.cscs.ch/project/proj3/resources/envmap/0002.jpg')"
   ]
  },
  {
   "cell_type": "code",
   "execution_count": null,
   "metadata": {},
   "outputs": [],
   "source": [
    "img = brayns.image(\n",
    "    format='png', quality=100, samples_per_pixel=16, size=(800,600))"
   ]
  },
  {
   "cell_type": "code",
   "execution_count": 71,
   "metadata": {},
   "outputs": [
    {
     "data": {
      "text/plain": [
       "True"
      ]
     },
     "execution_count": 71,
     "metadata": {},
     "output_type": "execute_result"
    }
   ],
   "source": [
    "input = {\n",
    "    \"host\":\"r1i7n13:5000\",\n",
    "    \"modelId\":0,\n",
    "    \"materialId\":0,\n",
    "    \"opacity\":1,\n",
    "    \"glossiness\":1,\n",
    "    \"diffuseColor\":[1,0,0],\n",
    "    \"shadingMode\":\"cartoon\"\n",
    "}\n",
    "\n",
    "class Error(Exception):\n",
    "    def __init__(self, code, text):\n",
    "        self.code = code\n",
    "        self.text = text\n",
    "\n",
    "\n",
    "class MissingInput(Error):\n",
    "    def __init__(self, att_name):\n",
    "        self.code = 1\n",
    "        self.text = f\"Missing mandatory input attribute: \\\"{att_name}\\\"!\"\n",
    "\n",
    "def exec(input):\n",
    "    \"\"\"\n",
    "    Set a material for a model.\n",
    "\n",
    "    IN: {\n",
    "      host: string,\n",
    "      modelId: number,\n",
    "      materialId: number,\n",
    "      diffuseColor: [number,number,number],\n",
    "      shadingMode: \"none\"|  \"diffuse\" | \"cartoon\" | \"electron\",\n",
    "      glossiness?: number,\n",
    "      opacity?: number\n",
    "    }\n",
    "    \"\"\"\n",
    "    for att_name in (\"host\", \"modelId\", \"materialId\", \"diffuseColor\", \"shadingMode\"):\n",
    "        if att_name not in input:\n",
    "            raise MissingInput(att_name)\n",
    "\n",
    "    brayns = Client(input[\"host\"])\n",
    "    circuit_explorer = CircuitExplorer(brayns)\n",
    "\n",
    "    circuit_explorer.set_material_extra_attributes(model_id=input[\"modelId\"])\n",
    "\n",
    "    shading_mode = input[\"shadingMode\"]\n",
    "    if shading_mode == \"diffuse\":\n",
    "        shading_mode = CircuitExplorer.SHADING_MODE_DIFFUSE\n",
    "    elif shading_mode == \"cartoon\":\n",
    "        shading_mode = CircuitExplorer.SHADING_MODE_CARTOON\n",
    "    elif shading_mode == \"electron\":\n",
    "        shading_mode = CircuitExplorer.SHADING_MODE_ELECTRON\n",
    "    else:\n",
    "        shading_mode = CircuitExplorer.SHADING_MODE_NONE\n",
    "\n",
    "    if \"glossiness\" not in input:\n",
    "        input[\"glossiness\"] = 0\n",
    "    if \"opacity\" not in input:\n",
    "        input[\"opacity\"] = 1\n",
    "\n",
    "    circuit_explorer.set_material(\n",
    "        glossiness=input[\"glossiness\"],\n",
    "        opacity=input[\"opacity\"],\n",
    "        model_id=input[\"modelId\"],\n",
    "        material_id=input[\"materialId\"],\n",
    "        diffuse_color=input[\"diffuseColor\"],\n",
    "        shading_mode=shading_mode)\n",
    "\n",
    "    return True\n",
    "\n",
    "exec(input)"
   ]
  },
  {
   "cell_type": "markdown",
   "metadata": {},
   "source": [
    "## Add grid"
   ]
  },
  {
   "cell_type": "code",
   "execution_count": null,
   "metadata": {},
   "outputs": [],
   "source": [
    "circuit_explorer.add_grid(colored=True, show_axis=False, opacity=0.5,\n",
    "    min_value=-20000, max_value=20000, interval=1000)"
   ]
  },
  {
   "cell_type": "markdown",
   "metadata": {},
   "source": [
    "## Camera path"
   ]
  },
  {
   "cell_type": "code",
   "execution_count": null,
   "metadata": {},
   "outputs": [],
   "source": [
    "control_points = list()"
   ]
  },
  {
   "cell_type": "code",
   "execution_count": null,
   "metadata": {},
   "outputs": [],
   "source": [
    "control_points.append(circuit_explorer.get_camera())"
   ]
  },
  {
   "cell_type": "code",
   "execution_count": null,
   "metadata": {},
   "outputs": [],
   "source": [
    "control_points"
   ]
  },
  {
   "cell_type": "code",
   "execution_count": null,
   "metadata": {},
   "outputs": [],
   "source": [
    "camera_path = CameraPathHandler(control_points, 100, 100)"
   ]
  },
  {
   "cell_type": "code",
   "execution_count": null,
   "metadata": {},
   "outputs": [],
   "source": [
    "camera_path.get_key_frame(10)"
   ]
  },
  {
   "cell_type": "code",
   "execution_count": null,
   "metadata": {},
   "outputs": [],
   "source": [
    "for i in range(camera_path.get_nb_frames()):\n",
    "#     import time\n",
    "#     time.sleep(0.1)\n",
    "    kf = camera_path.get_key_frame(i)\n",
    "    circuit_explorer.set_camera(origin=kf[0], direction=kf[1], up=kf[2])"
   ]
  },
  {
   "cell_type": "markdown",
   "metadata": {},
   "source": [
    "## Export movie"
   ]
  },
  {
   "cell_type": "code",
   "execution_count": null,
   "metadata": {},
   "outputs": [],
   "source": [
    "animation_frames=list()\n",
    "camera_definitions = list()\n",
    "for i in range(camera_path.get_nb_frames()):\n",
    "    animation_frames.append(0)\n",
    "    camera_definitions.append(camera_path.get_key_frame(i))"
   ]
  },
  {
   "cell_type": "code",
   "execution_count": null,
   "metadata": {},
   "outputs": [],
   "source": [
    "brayns.set_application_parameters(viewport=[800,600])"
   ]
  },
  {
   "cell_type": "code",
   "execution_count": null,
   "metadata": {},
   "outputs": [],
   "source": [
    "circuit_explorer.export_frames_to_disk(\n",
    "    animation_frames=animation_frames, \n",
    "    camera_definitions=camera_definitions, \n",
    "    path='/gpfs/bbp.cscs.ch/project/proj3/projects/mopro/tmp/normals/', \n",
    "    samples_per_pixel=1)"
   ]
  },
  {
   "cell_type": "code",
   "execution_count": null,
   "metadata": {},
   "outputs": [],
   "source": [
    "circuit_explorer.cancel_frames_export()"
   ]
  }
 ],
 "metadata": {
  "kernelspec": {
   "display_name": "Python 3",
   "language": "python",
   "name": "python3"
  },
  "language_info": {
   "codemirror_mode": {
    "name": "ipython",
    "version": 3
   },
   "file_extension": ".py",
   "mimetype": "text/x-python",
   "name": "python",
   "nbconvert_exporter": "python",
   "pygments_lexer": "ipython3",
   "version": "3.6.8"
  }
 },
 "nbformat": 4,
 "nbformat_minor": 2
}
