{
 "cells": [
  {
   "cell_type": "code",
   "execution_count": 5,
   "metadata": {},
   "outputs": [
    {
     "name": "stdout",
     "output_type": "stream",
     "text": [
      "Requirement already satisfied: brayns==0.8.0 in /home/petitjea/.local/lib/python3.6/site-packages (0.8.0)\n",
      "Requirement already satisfied: semver~=2.8.1 in /home/petitjea/.local/lib/python3.6/site-packages (from brayns==0.8.0) (2.8.1)\n",
      "Requirement already satisfied: requests~=2.21.0 in /home/petitjea/.local/lib/python3.6/site-packages (from brayns==0.8.0) (2.21.0)\n",
      "Requirement already satisfied: Pillow~=5.4.1 in /home/petitjea/.local/lib/python3.6/site-packages (from brayns==0.8.0) (5.4.1)\n",
      "Requirement already satisfied: rockets~=1.0.1 in /home/petitjea/.local/lib/python3.6/site-packages (from brayns==0.8.0) (1.0.1)\n",
      "Requirement already satisfied: python-jsonschema-objects~=0.3.5 in /home/petitjea/.local/lib/python3.6/site-packages (from brayns==0.8.0) (0.3.10)\n",
      "Requirement already satisfied: idna<2.9,>=2.5 in /usr/lib/python3/dist-packages (from requests~=2.21.0->brayns==0.8.0) (2.6)\n",
      "Requirement already satisfied: chardet<3.1.0,>=3.0.2 in /usr/lib/python3/dist-packages (from requests~=2.21.0->brayns==0.8.0) (3.0.4)\n",
      "Requirement already satisfied: certifi>=2017.4.17 in /usr/lib/python3/dist-packages (from requests~=2.21.0->brayns==0.8.0) (2018.1.18)\n",
      "Requirement already satisfied: urllib3<1.25,>=1.21.1 in /usr/lib/python3/dist-packages (from requests~=2.21.0->brayns==0.8.0) (1.22)\n",
      "Requirement already satisfied: json-rpc~=1.11.1 in /home/petitjea/.local/lib/python3.6/site-packages (from rockets~=1.0.1->brayns==0.8.0) (1.11.1)\n",
      "Requirement already satisfied: rx~=1.6.1 in /home/petitjea/.local/lib/python3.6/site-packages (from rockets~=1.0.1->brayns==0.8.0) (1.6.1)\n",
      "Requirement already satisfied: websockets~=7.0 in /home/petitjea/.local/lib/python3.6/site-packages (from rockets~=1.0.1->brayns==0.8.0) (7.0)\n",
      "Requirement already satisfied: six>=1.5.2 in /home/petitjea/.local/lib/python3.6/site-packages (from python-jsonschema-objects~=0.3.5->brayns==0.8.0) (1.12.0)\n",
      "Requirement already satisfied: Markdown>=2.4 in /home/petitjea/.local/lib/python3.6/site-packages (from python-jsonschema-objects~=0.3.5->brayns==0.8.0) (3.1.1)\n",
      "Requirement already satisfied: inflection>=0.2 in /home/petitjea/.local/lib/python3.6/site-packages (from python-jsonschema-objects~=0.3.5->brayns==0.8.0) (0.3.1)\n",
      "Requirement already satisfied: jsonschema>=2.3 in /home/petitjea/.local/lib/python3.6/site-packages (from python-jsonschema-objects~=0.3.5->brayns==0.8.0) (3.0.1)\n",
      "Requirement already satisfied: setuptools>=36 in /home/petitjea/.local/lib/python3.6/site-packages (from Markdown>=2.4->python-jsonschema-objects~=0.3.5->brayns==0.8.0) (41.0.1)\n",
      "Requirement already satisfied: attrs>=17.4.0 in /home/petitjea/.local/lib/python3.6/site-packages (from jsonschema>=2.3->python-jsonschema-objects~=0.3.5->brayns==0.8.0) (19.1.0)\n",
      "Requirement already satisfied: pyrsistent>=0.14.0 in /home/petitjea/.local/lib/python3.6/site-packages (from jsonschema>=2.3->python-jsonschema-objects~=0.3.5->brayns==0.8.0) (0.15.3)\n",
      "Requirement already satisfied: phaneron==0.1.11 in /home/petitjea/.local/lib/python3.6/site-packages (0.1.11)\n",
      "Requirement already satisfied: matplotlib>==2.1.2 in /home/petitjea/.local/lib/python3.6/site-packages (from phaneron==0.1.11) (3.1.1)\n",
      "Requirement already satisfied: brayns>=0.8.0 in /home/petitjea/.local/lib/python3.6/site-packages (from phaneron==0.1.11) (0.8.0)\n",
      "Requirement already satisfied: scipy>==1.3.0 in /home/petitjea/.local/lib/python3.6/site-packages (from phaneron==0.1.11) (1.3.0)\n",
      "Requirement already satisfied: seaborn>==0.8.1 in /home/petitjea/.local/lib/python3.6/site-packages (from phaneron==0.1.11) (0.9.0)\n",
      "Requirement already satisfied: numpy>==1.14.5 in /home/petitjea/.local/lib/python3.6/site-packages (from phaneron==0.1.11) (1.17.0rc1)\n",
      "Requirement already satisfied: kiwisolver>=1.0.1 in /home/petitjea/.local/lib/python3.6/site-packages (from matplotlib>==2.1.2->phaneron==0.1.11) (1.1.0)\n",
      "Requirement already satisfied: cycler>=0.10 in /home/petitjea/.local/lib/python3.6/site-packages (from matplotlib>==2.1.2->phaneron==0.1.11) (0.10.0)\n",
      "Requirement already satisfied: pyparsing!=2.0.4,!=2.1.2,!=2.1.6,>=2.0.1 in /home/petitjea/.local/lib/python3.6/site-packages (from matplotlib>==2.1.2->phaneron==0.1.11) (2.4.0)\n",
      "Requirement already satisfied: python-dateutil>=2.1 in /home/petitjea/.local/lib/python3.6/site-packages (from matplotlib>==2.1.2->phaneron==0.1.11) (2.8.0)\n",
      "Requirement already satisfied: semver~=2.8.1 in /home/petitjea/.local/lib/python3.6/site-packages (from brayns>=0.8.0->phaneron==0.1.11) (2.8.1)\n",
      "Requirement already satisfied: python-jsonschema-objects~=0.3.5 in /home/petitjea/.local/lib/python3.6/site-packages (from brayns>=0.8.0->phaneron==0.1.11) (0.3.10)\n",
      "Requirement already satisfied: requests~=2.21.0 in /home/petitjea/.local/lib/python3.6/site-packages (from brayns>=0.8.0->phaneron==0.1.11) (2.21.0)\n",
      "Requirement already satisfied: Pillow~=5.4.1 in /home/petitjea/.local/lib/python3.6/site-packages (from brayns>=0.8.0->phaneron==0.1.11) (5.4.1)\n",
      "Requirement already satisfied: rockets~=1.0.1 in /home/petitjea/.local/lib/python3.6/site-packages (from brayns>=0.8.0->phaneron==0.1.11) (1.0.1)\n",
      "Requirement already satisfied: pandas>=0.15.2 in /home/petitjea/.local/lib/python3.6/site-packages (from seaborn>==0.8.1->phaneron==0.1.11) (0.24.2)\n",
      "Requirement already satisfied: setuptools in /home/petitjea/.local/lib/python3.6/site-packages (from kiwisolver>=1.0.1->matplotlib>==2.1.2->phaneron==0.1.11) (41.0.1)\n",
      "Requirement already satisfied: six in /home/petitjea/.local/lib/python3.6/site-packages (from cycler>=0.10->matplotlib>==2.1.2->phaneron==0.1.11) (1.12.0)\n",
      "Requirement already satisfied: jsonschema>=2.3 in /home/petitjea/.local/lib/python3.6/site-packages (from python-jsonschema-objects~=0.3.5->brayns>=0.8.0->phaneron==0.1.11) (3.0.1)\n",
      "Requirement already satisfied: inflection>=0.2 in /home/petitjea/.local/lib/python3.6/site-packages (from python-jsonschema-objects~=0.3.5->brayns>=0.8.0->phaneron==0.1.11) (0.3.1)\n",
      "Requirement already satisfied: Markdown>=2.4 in /home/petitjea/.local/lib/python3.6/site-packages (from python-jsonschema-objects~=0.3.5->brayns>=0.8.0->phaneron==0.1.11) (3.1.1)\n",
      "Requirement already satisfied: certifi>=2017.4.17 in /usr/lib/python3/dist-packages (from requests~=2.21.0->brayns>=0.8.0->phaneron==0.1.11) (2018.1.18)\n",
      "Requirement already satisfied: urllib3<1.25,>=1.21.1 in /usr/lib/python3/dist-packages (from requests~=2.21.0->brayns>=0.8.0->phaneron==0.1.11) (1.22)\n",
      "Requirement already satisfied: chardet<3.1.0,>=3.0.2 in /usr/lib/python3/dist-packages (from requests~=2.21.0->brayns>=0.8.0->phaneron==0.1.11) (3.0.4)\n",
      "Requirement already satisfied: idna<2.9,>=2.5 in /usr/lib/python3/dist-packages (from requests~=2.21.0->brayns>=0.8.0->phaneron==0.1.11) (2.6)\n",
      "Requirement already satisfied: json-rpc~=1.11.1 in /home/petitjea/.local/lib/python3.6/site-packages (from rockets~=1.0.1->brayns>=0.8.0->phaneron==0.1.11) (1.11.1)\n",
      "Requirement already satisfied: rx~=1.6.1 in /home/petitjea/.local/lib/python3.6/site-packages (from rockets~=1.0.1->brayns>=0.8.0->phaneron==0.1.11) (1.6.1)\n",
      "Requirement already satisfied: websockets~=7.0 in /home/petitjea/.local/lib/python3.6/site-packages (from rockets~=1.0.1->brayns>=0.8.0->phaneron==0.1.11) (7.0)\n",
      "Requirement already satisfied: pytz>=2011k in /usr/lib/python3/dist-packages (from pandas>=0.15.2->seaborn>==0.8.1->phaneron==0.1.11) (2018.3)\n",
      "Requirement already satisfied: attrs>=17.4.0 in /home/petitjea/.local/lib/python3.6/site-packages (from jsonschema>=2.3->python-jsonschema-objects~=0.3.5->brayns>=0.8.0->phaneron==0.1.11) (19.1.0)\n",
      "Requirement already satisfied: pyrsistent>=0.14.0 in /home/petitjea/.local/lib/python3.6/site-packages (from jsonschema>=2.3->python-jsonschema-objects~=0.3.5->brayns>=0.8.0->phaneron==0.1.11) (0.15.3)\n"
     ]
    }
   ],
   "source": [
    "!pip install brayns==0.8.0 --user\n",
    "!pip install phaneron==0.1.11 --user"
   ]
  },
  {
   "cell_type": "markdown",
   "metadata": {},
   "source": [
    "# Allocate and start Brayns on BB5"
   ]
  },
  {
   "cell_type": "raw",
   "metadata": {},
   "source": [
    "module purge\n",
    "module load nix/viz/circuit-explorer/latest\n",
    "braynsService --http-server :5000 --plugin braynsCircuitExplorer --module braynsCircuitExplorer"
   ]
  },
  {
   "cell_type": "markdown",
   "metadata": {},
   "source": [
    "# Start scripting!"
   ]
  },
  {
   "cell_type": "code",
   "execution_count": 18,
   "metadata": {},
   "outputs": [],
   "source": [
    "from brayns import Client, __version__ as brayns_version\n",
    "from phaneron import CircuitExplorer, CameraPathHandler, __version__ as phaneron_version"
   ]
  },
  {
   "cell_type": "code",
   "execution_count": 19,
   "metadata": {},
   "outputs": [
    {
     "name": "stdout",
     "output_type": "stream",
     "text": [
      "brayns:   0.8.0\n",
      "phaneron: 0.1.11\n"
     ]
    }
   ],
   "source": [
    "print('brayns:   ' + brayns_version)\n",
    "print('phaneron: ' + phaneron_version)"
   ]
  },
  {
   "cell_type": "code",
   "execution_count": 20,
   "metadata": {},
   "outputs": [],
   "source": [
    "brayns = Client('r1i4n21.bbp.epfl.ch:5000')\n",
    "circuit_explorer = CircuitExplorer(brayns)"
   ]
  },
  {
   "cell_type": "markdown",
   "metadata": {},
   "source": [
    "## Add mouse brain model"
   ]
  },
  {
   "cell_type": "code",
   "execution_count": 22,
   "metadata": {},
   "outputs": [
    {
     "data": {
      "text/plain": [
       "{'bounding_box': False,\n",
       " 'bounds': {'max': [41.245601654052734, 17.66670036315918, 25.97640037536621],\n",
       "  'min': [-44.277198791503906, -34.56340026855469, -34.111900329589844]},\n",
       " 'id': 2,\n",
       " 'metadata': {'faces': '27136', 'meshes': '1', 'vertices': '81408'},\n",
       " 'name': 'GLIA_000009.h5_decimated',\n",
       " 'path': '/gpfs/bbp.cscs.ch/project/proj3/resources/meshes/astrocytes/GLIA_000009.h5_decimated.off',\n",
       " 'transformation': {'rotation': [0.0, 0.0, 0.0, 1.0],\n",
       "  'rotation_center': [0.0, 0.0, 0.0],\n",
       "  'scale': [1.0, 1.0, 1.0],\n",
       "  'translation': [0.0, 0.0, 0.0]},\n",
       " 'visible': True}"
      ]
     },
     "execution_count": 22,
     "metadata": {},
     "output_type": "execute_result"
    }
   ],
   "source": [
    "brayns.add_model(\n",
    "    path='/gpfs/bbp.cscs.ch/project/proj3/resources/meshes/astrocytes/GLIA_000000.h5_decimated.off')\n",
    "brayns.add_model(\n",
    "    path='/gpfs/bbp.cscs.ch/project/proj3/resources/meshes/astrocytes/GLIA_000009.h5_decimated.off')"
   ]
  },
  {
   "cell_type": "markdown",
   "metadata": {},
   "source": [
    "## List models"
   ]
  },
  {
   "cell_type": "code",
   "execution_count": 24,
   "metadata": {},
   "outputs": [
    {
     "data": {
      "text/plain": [
       "<scene/models_<anonymous_field>=[{'bounding_box': False, 'bounds': {'max': [24.76919937133789, 20.322500228881836, 32.411399841308594], 'min': [-17.423799514770508, -30.91699981689453, -21.587100982666016]}, 'id': 1, 'metadata': {'faces': '28144', 'meshes': '1', 'vertices': '84432'}, 'name': 'GLIA_000000.h5_decimated', 'path': '/gpfs/bbp.cscs.ch/project/proj3/resources/meshes/astrocytes/GLIA_000000.h5_decimated.off', 'transformation': {'rotation': [0.0, 0.0, 0.0, 1.0], 'rotation_center': [0.0, 0.0, 0.0], 'scale': [1.0, 1.0, 1.0], 'translation': [0.0, 0.0, 0.0]}, 'visible': True}, {'bounding_box': False, 'bounds': {'max': [41.245601654052734, 17.66670036315918, 25.97640037536621], 'min': [-44.277198791503906, -34.56340026855469, -34.111900329589844]}, 'id': 2, 'metadata': {'faces': '27136', 'meshes': '1', 'vertices': '81408'}, 'name': 'GLIA_000009.h5_decimated', 'path': '/gpfs/bbp.cscs.ch/project/proj3/resources/meshes/astrocytes/GLIA_000009.h5_decimated.off', 'transformation': {'rotation': [0.0, 0.0, 0.0, 1.0], 'rotation_center': [0.0, 0.0, 0.0], 'scale': [1.0, 1.0, 1.0], 'translation': [0.0, 0.0, 0.0]}, 'visible': True}]>"
      ]
     },
     "execution_count": 24,
     "metadata": {},
     "output_type": "execute_result"
    }
   ],
   "source": [
    "brayns.scene.models"
   ]
  },
  {
   "cell_type": "code",
   "execution_count": 25,
   "metadata": {},
   "outputs": [
    {
     "data": {
      "text/plain": [
       "True"
      ]
     },
     "execution_count": 25,
     "metadata": {},
     "output_type": "execute_result"
    }
   ],
   "source": [
    "transfo = {'rotation': [0.0, 0.0, 0.0, 1.0], \n",
    "           'rotation_center': [0.0, 0.0, 0.0], \n",
    "           'scale': [1.0, 1.0, 1.0], \n",
    "           'translation': [50.0, 0.0, 0.0]}\n",
    "brayns.update_model(id=1, transformation=transfo)"
   ]
  },
  {
   "cell_type": "markdown",
   "metadata": {},
   "source": [
    "## Materials"
   ]
  },
  {
   "cell_type": "code",
   "execution_count": 29,
   "metadata": {},
   "outputs": [
    {
     "data": {
      "text/plain": [
       "'OK'"
      ]
     },
     "execution_count": 29,
     "metadata": {},
     "output_type": "execute_result"
    }
   ],
   "source": [
    "circuit_explorer.set_material_extra_attributes(model_id=2)"
   ]
  },
  {
   "cell_type": "code",
   "execution_count": 52,
   "metadata": {},
   "outputs": [
    {
     "data": {
      "text/plain": [
       "'OK'"
      ]
     },
     "execution_count": 52,
     "metadata": {},
     "output_type": "execute_result"
    }
   ],
   "source": [
    "circuit_explorer.set_material(glossiness=1,\n",
    "                              opacity=1, \n",
    "                              refraction_index=0,\n",
    "                              model_id=2, \n",
    "                              material_id=0, \n",
    "                              diffuse_color=(.5,1,.75),\n",
    "                              shading_mode=circuit_explorer.SHADING_MODE_DIFFUSE)"
   ]
  },
  {
   "cell_type": "markdown",
   "metadata": {},
   "source": [
    "## Shading options"
   ]
  },
  {
   "cell_type": "code",
   "execution_count": null,
   "metadata": {},
   "outputs": [],
   "source": [
    "params = brayns.AdvancedSimulationRendererParams()\n",
    "params.shadows=1\n",
    "params.soft_shadows=1\n",
    "params.pixel_alpha=2\n",
    "brayns.set_renderer_params(params)"
   ]
  },
  {
   "cell_type": "code",
   "execution_count": 49,
   "metadata": {},
   "outputs": [
    {
     "data": {
      "text/plain": [
       "True"
      ]
     },
     "execution_count": 49,
     "metadata": {},
     "output_type": "execute_result"
    }
   ],
   "source": [
    "brayns.set_environment_map('/gpfs/bbp.cscs.ch/project/proj3/resources/envmap/0101.jpg')"
   ]
  },
  {
   "cell_type": "code",
   "execution_count": null,
   "metadata": {},
   "outputs": [],
   "source": [
    "img = brayns.image(\n",
    "    format='png', quality=100, samples_per_pixel=16, size=(800,600))"
   ]
  },
  {
   "cell_type": "markdown",
   "metadata": {},
   "source": [
    "## Add grid"
   ]
  },
  {
   "cell_type": "code",
   "execution_count": null,
   "metadata": {},
   "outputs": [],
   "source": [
    "circuit_explorer.add_grid(colored=True, show_axis=False, opacity=0.5,\n",
    "    min_value=-20000, max_value=20000, interval=1000)"
   ]
  },
  {
   "cell_type": "markdown",
   "metadata": {},
   "source": [
    "## Camera path"
   ]
  },
  {
   "cell_type": "code",
   "execution_count": null,
   "metadata": {},
   "outputs": [],
   "source": [
    "control_points = list()"
   ]
  },
  {
   "cell_type": "code",
   "execution_count": null,
   "metadata": {},
   "outputs": [],
   "source": [
    "control_points.append(circuit_explorer.get_camera())"
   ]
  },
  {
   "cell_type": "code",
   "execution_count": null,
   "metadata": {},
   "outputs": [],
   "source": [
    "control_points"
   ]
  },
  {
   "cell_type": "code",
   "execution_count": null,
   "metadata": {},
   "outputs": [],
   "source": [
    "camera_path = CameraPathHandler(control_points, 100, 100)"
   ]
  },
  {
   "cell_type": "code",
   "execution_count": null,
   "metadata": {},
   "outputs": [],
   "source": [
    "camera_path.get_key_frame(10)"
   ]
  },
  {
   "cell_type": "code",
   "execution_count": null,
   "metadata": {},
   "outputs": [],
   "source": [
    "for i in range(camera_path.get_nb_frames()):\n",
    "#     import time\n",
    "#     time.sleep(0.1)\n",
    "    kf = camera_path.get_key_frame(i)\n",
    "    circuit_explorer.set_camera(origin=kf[0], direction=kf[1], up=kf[2])"
   ]
  },
  {
   "cell_type": "markdown",
   "metadata": {},
   "source": [
    "## Export movie"
   ]
  },
  {
   "cell_type": "code",
   "execution_count": null,
   "metadata": {},
   "outputs": [],
   "source": [
    "animation_frames=list()\n",
    "camera_definitions = list()\n",
    "for i in range(camera_path.get_nb_frames()):\n",
    "    animation_frames.append(0)\n",
    "    camera_definitions.append(camera_path.get_key_frame(i))"
   ]
  },
  {
   "cell_type": "code",
   "execution_count": null,
   "metadata": {},
   "outputs": [],
   "source": [
    "brayns.set_application_parameters(viewport=[800,600])"
   ]
  },
  {
   "cell_type": "code",
   "execution_count": null,
   "metadata": {},
   "outputs": [],
   "source": [
    "circuit_explorer.export_frames_to_disk(\n",
    "    animation_frames=animation_frames, \n",
    "    camera_definitions=camera_definitions, \n",
    "    path='/gpfs/bbp.cscs.ch/project/proj3/projects/mopro/tmp/normals/', \n",
    "    samples_per_pixel=1)"
   ]
  },
  {
   "cell_type": "code",
   "execution_count": null,
   "metadata": {},
   "outputs": [],
   "source": [
    "circuit_explorer.cancel_frames_export()"
   ]
  }
 ],
 "metadata": {
  "kernelspec": {
   "display_name": "Python 3",
   "language": "python",
   "name": "python3"
  },
  "language_info": {
   "codemirror_mode": {
    "name": "ipython",
    "version": 3
   },
   "file_extension": ".py",
   "mimetype": "text/x-python",
   "name": "python",
   "nbconvert_exporter": "python",
   "pygments_lexer": "ipython3",
   "version": "3.6.8"
  }
 },
 "nbformat": 4,
 "nbformat_minor": 2
}
