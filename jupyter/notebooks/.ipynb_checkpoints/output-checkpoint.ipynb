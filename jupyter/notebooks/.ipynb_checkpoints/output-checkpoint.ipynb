{
 "cells": [
  {
   "cell_type": "code",
   "execution_count": 1,
   "metadata": {
    "scrolled": true
   },
   "outputs": [
    {
     "name": "stdout",
     "output_type": "stream",
     "text": [
      "Requirement already satisfied: brayns==1.0.0 in /home/tolokoban/.local/lib/python3.7/site-packages (1.0.0)\n",
      "Requirement already satisfied: Pillow~=5.4.1 in /home/tolokoban/.local/lib/python3.7/site-packages (from brayns==1.0.0) (5.4.1)\n",
      "Requirement already satisfied: semver~=2.8.1 in /home/tolokoban/.local/lib/python3.7/site-packages (from brayns==1.0.0) (2.8.1)\n",
      "Requirement already satisfied: rockets~=1.0.2 in /home/tolokoban/.local/lib/python3.7/site-packages (from brayns==1.0.0) (1.0.2)\n",
      "Requirement already satisfied: python-jsonschema-objects~=0.3.5 in /home/tolokoban/.local/lib/python3.7/site-packages (from brayns==1.0.0) (0.3.12)\n",
      "Requirement already satisfied: requests~=2.22.0 in /home/tolokoban/.local/lib/python3.7/site-packages (from brayns==1.0.0) (2.22.0)\n",
      "Requirement already satisfied: websockets~=7.0 in /home/tolokoban/.local/lib/python3.7/site-packages (from rockets~=1.0.2->brayns==1.0.0) (7.0)\n",
      "Requirement already satisfied: rx~=1.6.1 in /home/tolokoban/.local/lib/python3.7/site-packages (from rockets~=1.0.2->brayns==1.0.0) (1.6.1)\n",
      "Requirement already satisfied: json-rpc~=1.11.1 in /home/tolokoban/.local/lib/python3.7/site-packages (from rockets~=1.0.2->brayns==1.0.0) (1.11.1)\n",
      "Requirement already satisfied: jsonschema>=2.3 in /usr/lib/python3/dist-packages (from python-jsonschema-objects~=0.3.5->brayns==1.0.0) (2.6.0)\n",
      "Requirement already satisfied: inflection>=0.2 in /home/tolokoban/.local/lib/python3.7/site-packages (from python-jsonschema-objects~=0.3.5->brayns==1.0.0) (0.4.0)\n",
      "Requirement already satisfied: six>=1.5.2 in /usr/lib/python3/dist-packages (from python-jsonschema-objects~=0.3.5->brayns==1.0.0) (1.12.0)\n",
      "Requirement already satisfied: Markdown>=2.4 in /home/tolokoban/.local/lib/python3.7/site-packages (from python-jsonschema-objects~=0.3.5->brayns==1.0.0) (3.2.1)\n",
      "Requirement already satisfied: idna<2.9,>=2.5 in /usr/lib/python3/dist-packages (from requests~=2.22.0->brayns==1.0.0) (2.6)\n",
      "Requirement already satisfied: chardet<3.1.0,>=3.0.2 in /usr/lib/python3/dist-packages (from requests~=2.22.0->brayns==1.0.0) (3.0.4)\n",
      "Requirement already satisfied: certifi>=2017.4.17 in /usr/lib/python3/dist-packages (from requests~=2.22.0->brayns==1.0.0) (2018.8.24)\n",
      "Requirement already satisfied: urllib3!=1.25.0,!=1.25.1,<1.26,>=1.21.1 in /usr/lib/python3/dist-packages (from requests~=2.22.0->brayns==1.0.0) (1.24.1)\n",
      "Requirement already satisfied: setuptools>=36 in /usr/lib/python3/dist-packages (from Markdown>=2.4->python-jsonschema-objects~=0.3.5->brayns==1.0.0) (41.1.0)\n"
     ]
    }
   ],
   "source": [
    "!pip3 install brayns==1.0.0"
   ]
  },
  {
   "cell_type": "markdown",
   "metadata": {},
   "source": [
    "# Boiler Plate"
   ]
  },
  {
   "cell_type": "code",
   "execution_count": 2,
   "metadata": {},
   "outputs": [],
   "source": [
    "from brayns import Client as BraynsClient\n",
    "class Brayns:\n",
    "    def __init__(self, host):\n",
    "        self.client = BraynsClient(host)\n",
    "    def get_model_properties(self, params):\n",
    "        self.client.rockets_client.request(\n",
    "            \"get-model-properties\",\n",
    "            params)\n"
   ]
  },
  {
   "cell_type": "markdown",
   "metadata": {},
   "source": [
    "# Action"
   ]
  },
  {
   "cell_type": "code",
   "execution_count": 4,
   "metadata": {},
   "outputs": [
    {
     "name": "stdout",
     "output_type": "stream",
     "text": [
      "None\n"
     ]
    }
   ],
   "source": [
    "api = Brayns(\"r1i7n21.bbp.epfl.ch:5000\")\n",
    "out = api.get_model_properties({\n",
    "    \"id\": 0\n",
    "})\n",
    "print(out)"
   ]
  }
 ],
 "metadata": {
  "kernelspec": {
   "display_name": "Python 3",
   "language": "python",
   "name": "python3"
  },
  "language_info": {
   "codemirror_mode": {
    "name": "ipython",
    "version": 3
   },
   "file_extension": ".py",
   "mimetype": "text/x-python",
   "name": "python",
   "nbconvert_exporter": "python",
   "pygments_lexer": "ipython3",
   "version": "3.7.5"
  }
 },
 "nbformat": 4,
 "nbformat_minor": 2
}
