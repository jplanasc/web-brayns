{
 "cells": [
  {
   "cell_type": "code",
   "execution_count": 2,
   "metadata": {},
   "outputs": [
    {
     "name": "stdout",
     "output_type": "stream",
     "text": [
      "Collecting brayns==1.0.0\n",
      "  Using cached https://files.pythonhosted.org/packages/47/5c/6594e0ac63e4ff6e70a06326d0575d6c9992a96aff1549c0032e0b56070a/brayns-1.0.0.tar.gz\n",
      "Collecting Pillow~=5.4.1 (from brayns==1.0.0)\n",
      "\u001b[33m  Cache entry deserialization failed, entry ignored\u001b[0m\n",
      "  Using cached https://files.pythonhosted.org/packages/ae/2a/0a0ab2833e5270664fb5fae590717f867ac6319b124160c09f1d3291de28/Pillow-5.4.1-cp37-cp37m-manylinux1_x86_64.whl\n",
      "Collecting python-jsonschema-objects~=0.3.5 (from brayns==1.0.0)\n",
      "  Using cached https://files.pythonhosted.org/packages/a3/9f/43df3d9c4d9df60dfca0a161461835514209e8405bba4d6aba36b1da5652/python_jsonschema_objects-0.3.12-py2.py3-none-any.whl\n",
      "Collecting requests~=2.22.0 (from brayns==1.0.0)\n",
      "\u001b[33m  Cache entry deserialization failed, entry ignored\u001b[0m\n",
      "  Using cached https://files.pythonhosted.org/packages/51/bd/23c926cd341ea6b7dd0b2a00aba99ae0f828be89d72b2190f27c11d4b7fb/requests-2.22.0-py2.py3-none-any.whl\n",
      "Collecting rockets~=1.0.2 (from brayns==1.0.0)\n",
      "  Using cached https://files.pythonhosted.org/packages/f0/ec/561ec49e2ef7e089c5d3088aa48ef2554e3c5d7d5074452d727c06d91596/rockets-1.0.2.tar.gz\n",
      "Collecting semver~=2.8.1 (from brayns==1.0.0)\n",
      "  Using cached https://files.pythonhosted.org/packages/21/18/a0de8cda637ba3efee1b3617ded00601507ce15bd70a39399740e0fd415f/semver-2.8.1-py2.py3-none-any.whl\n",
      "Collecting Markdown>=2.4 (from python-jsonschema-objects~=0.3.5->brayns==1.0.0)\n",
      "\u001b[?25l  Downloading https://files.pythonhosted.org/packages/ab/c4/ba46d44855e6eb1770a12edace5a165a0c6de13349f592b9036257f3c3d3/Markdown-3.2.1-py2.py3-none-any.whl (88kB)\n",
      "\u001b[K    100% |████████████████████████████████| 92kB 542kB/s ta 0:00:01\n",
      "\u001b[?25hRequirement already satisfied: jsonschema>=2.3 in /usr/lib/python3/dist-packages (from python-jsonschema-objects~=0.3.5->brayns==1.0.0) (2.6.0)\n",
      "Requirement already satisfied: six>=1.5.2 in /usr/lib/python3/dist-packages (from python-jsonschema-objects~=0.3.5->brayns==1.0.0) (1.12.0)\n",
      "Collecting inflection>=0.2 (from python-jsonschema-objects~=0.3.5->brayns==1.0.0)\n",
      "  Downloading https://files.pythonhosted.org/packages/52/c1/36be286d85dbd76527fb613527222a795d7c071da195fa916e7bf3cb03cb/inflection-0.4.0-py2.py3-none-any.whl\n",
      "Requirement already satisfied: idna<2.9,>=2.5 in /usr/lib/python3/dist-packages (from requests~=2.22.0->brayns==1.0.0) (2.6)\n",
      "Requirement already satisfied: urllib3!=1.25.0,!=1.25.1,<1.26,>=1.21.1 in /usr/lib/python3/dist-packages (from requests~=2.22.0->brayns==1.0.0) (1.24.1)\n",
      "Requirement already satisfied: certifi>=2017.4.17 in /usr/lib/python3/dist-packages (from requests~=2.22.0->brayns==1.0.0) (2018.8.24)\n",
      "Requirement already satisfied: chardet<3.1.0,>=3.0.2 in /usr/lib/python3/dist-packages (from requests~=2.22.0->brayns==1.0.0) (3.0.4)\n",
      "Collecting json-rpc~=1.11.1 (from rockets~=1.0.2->brayns==1.0.0)\n",
      "  Using cached https://files.pythonhosted.org/packages/d2/c1/4795383bbce585fc376be66ad54cf670543a5c3349783c8a520d5a6402bd/json_rpc-1.11.1-py2.py3-none-any.whl\n",
      "Collecting rx~=1.6.1 (from rockets~=1.0.2->brayns==1.0.0)\n",
      "  Using cached https://files.pythonhosted.org/packages/33/0f/5ef4ac78e2a538cc1b054eb86285fe0bf7a5dbaeaac2c584757c300515e2/Rx-1.6.1-py2.py3-none-any.whl\n",
      "Collecting websockets~=7.0 (from rockets~=1.0.2->brayns==1.0.0)\n",
      "  Using cached https://files.pythonhosted.org/packages/aa/53/1dbfbe51e8ba9a2b9bc0b7201df77fe597f1e57b6b5d9bb094d3729aeecf/websockets-7.0-cp37-cp37m-manylinux1_x86_64.whl\n",
      "Requirement already satisfied: setuptools>=36 in /usr/lib/python3/dist-packages (from Markdown>=2.4->python-jsonschema-objects~=0.3.5->brayns==1.0.0) (41.1.0)\n",
      "Building wheels for collected packages: brayns, rockets\n",
      "  Running setup.py bdist_wheel for brayns ... \u001b[?25ldone\n",
      "\u001b[?25h  Stored in directory: /home/tolokoban/.cache/pip/wheels/08/32/ee/69d0795bdd220cc550fdb03127d70fe6cebccda76831cff173\n",
      "  Running setup.py bdist_wheel for rockets ... \u001b[?25ldone\n",
      "\u001b[?25h  Stored in directory: /home/tolokoban/.cache/pip/wheels/0d/2b/ec/46a577ee386ba8475096202cf57644c5b72b901b194160c9a6\n",
      "Successfully built brayns rockets\n",
      "Installing collected packages: Pillow, Markdown, inflection, python-jsonschema-objects, requests, json-rpc, rx, websockets, rockets, semver, brayns\n",
      "Successfully installed Markdown-3.2.1 Pillow-5.4.1 brayns-1.0.0 inflection-0.4.0 json-rpc-1.11.1 python-jsonschema-objects-0.3.12 requests-2.22.0 rockets-1.0.2 rx-1.6.1 semver-2.8.1 websockets-7.0\n"
     ]
    }
   ],
   "source": [
    "!pip3 install brayns==1.0.0"
   ]
  },
  {
   "cell_type": "markdown",
   "metadata": {},
   "source": [
    "# Allocate and start Brayns on BB5"
   ]
  },
  {
   "cell_type": "raw",
   "metadata": {},
   "source": [
    "module purge\n",
    "module load nix/viz/circuit-explorer/latest\n",
    "braynsService --http-server :5000 --plugin braynsCircuitExplorer --module braynsCircuitExplorer"
   ]
  },
  {
   "cell_type": "markdown",
   "metadata": {},
   "source": [
    "# Start scripting!"
   ]
  },
  {
   "cell_type": "code",
   "execution_count": 3,
   "metadata": {},
   "outputs": [],
   "source": [
    "from brayns import Client, __version__ as brayns_version"
   ]
  },
  {
   "cell_type": "code",
   "execution_count": 4,
   "metadata": {},
   "outputs": [
    {
     "name": "stdout",
     "output_type": "stream",
     "text": [
      "brayns:   1.0.0\n"
     ]
    }
   ],
   "source": [
    "print('brayns:   ' + brayns_version)"
   ]
  },
  {
   "cell_type": "code",
   "execution_count": 5,
   "metadata": {},
   "outputs": [],
   "source": [
    "brayns = Client('r1i7n21.bbp.epfl.ch:5000')"
   ]
  },
  {
   "cell_type": "code",
   "execution_count": 6,
   "metadata": {},
   "outputs": [],
   "source": [
    "brayns.get_model_properties(id=0)\n",
    "brayns.add_model()"
   ]
  },
  {
   "cell_type": "code",
   "execution_count": 78,
   "metadata": {},
   "outputs": [
    {
     "ename": "TypeError",
     "evalue": "export_frames_to_disk() missing 1 required positional argument: 'camera_definitions'",
     "output_type": "error",
     "traceback": [
      "\u001b[0;31m---------------------------------------------------------------------------\u001b[0m",
      "\u001b[0;31mTypeError\u001b[0m                                 Traceback (most recent call last)",
      "\u001b[0;32m<ipython-input-78-be80fee21108>\u001b[0m in \u001b[0;36m<module>\u001b[0;34m\u001b[0m\n\u001b[1;32m      1\u001b[0m \u001b[0mfilename\u001b[0m \u001b[0;34m=\u001b[0m \u001b[0;34m\"/gpfs/bbp.cscs.ch/project/proj3/.tolokoban/\"\u001b[0m\u001b[0;34m\u001b[0m\u001b[0;34m\u001b[0m\u001b[0m\n\u001b[1;32m      2\u001b[0m \u001b[0;31m#brayns.image(size=(384,216), format='jpeg', quality=100, samples_per_pixel=64).save(filename)\u001b[0m\u001b[0;34m\u001b[0m\u001b[0;34m\u001b[0m\u001b[0;34m\u001b[0m\u001b[0m\n\u001b[0;32m----> 3\u001b[0;31m \u001b[0mce\u001b[0m\u001b[0;34m.\u001b[0m\u001b[0mexport_frames_to_disk\u001b[0m\u001b[0;34m(\u001b[0m\u001b[0mpath\u001b[0m\u001b[0;34m=\u001b[0m\u001b[0mfilename\u001b[0m\u001b[0;34m,\u001b[0m\u001b[0manimation_frames\u001b[0m\u001b[0;34m=\u001b[0m\u001b[0;34m[\u001b[0m\u001b[0;36m757\u001b[0m\u001b[0;34m]\u001b[0m\u001b[0;34m,\u001b[0m\u001b[0msamples_per_pixel\u001b[0m\u001b[0;34m=\u001b[0m\u001b[0;36m64\u001b[0m\u001b[0;34m)\u001b[0m\u001b[0;34m\u001b[0m\u001b[0;34m\u001b[0m\u001b[0m\n\u001b[0m",
      "\u001b[0;31mTypeError\u001b[0m: export_frames_to_disk() missing 1 required positional argument: 'camera_definitions'"
     ]
    }
   ],
   "source": [
    "filename = \"/gpfs/bbp.cscs.ch/project/proj3/.tolokoban/\"\n",
    "#brayns.image(size=(384,216), format='jpeg', quality=100, samples_per_pixel=64).save(filename)\n",
    "ce.export_frames_to_disk(path=filename,animation_frames=[757],samples_per_pixel=64)"
   ]
  },
  {
   "cell_type": "markdown",
   "metadata": {},
   "source": [
    "## Add mouse brain model"
   ]
  },
  {
   "cell_type": "code",
   "execution_count": 18,
   "metadata": {},
   "outputs": [
    {
     "data": {
      "text/plain": [
       "{'bounding_box': False,\n",
       " 'bounds': {'max': [-1.7976931348623157e+308,\n",
       "   -1.7976931348623157e+308,\n",
       "   -1.7976931348623157e+308],\n",
       "  'min': [1.7976931348623157e+308,\n",
       "   1.7976931348623157e+308,\n",
       "   1.7976931348623157e+308]},\n",
       " 'id': 7,\n",
       " 'metadata': {'faces': '881968', 'meshes': '1', 'vertices': '1763936'},\n",
       " 'name': 'mouse_brain_and_column',\n",
       " 'path': '/gpfs/bbp.cscs.ch/project/proj3/resources/meshes/mouse_brain_and_column/full/mouse_brain_and_column.ply',\n",
       " 'transformation': {'rotation': [0.0, 0.0, 0.0, 1.0],\n",
       "  'rotation_center': [0.0, 0.0, 0.0],\n",
       "  'scale': [1.0, 1.0, 1.0],\n",
       "  'translation': [0.0, 0.0, 0.0]},\n",
       " 'visible': True}"
      ]
     },
     "execution_count": 18,
     "metadata": {},
     "output_type": "execute_result"
    }
   ],
   "source": [
    "brayns.add_model(\n",
    "    path='/gpfs/bbp.cscs.ch/project/proj3/resources/meshes/mouse_brain_and_column/full/mouse_brain_and_column.ply')"
   ]
  },
  {
   "cell_type": "markdown",
   "metadata": {},
   "source": [
    "## List models"
   ]
  },
  {
   "cell_type": "code",
   "execution_count": 58,
   "metadata": {},
   "outputs": [
    {
     "data": {
      "text/plain": [
       "5"
      ]
     },
     "execution_count": 58,
     "metadata": {},
     "output_type": "execute_result"
    }
   ],
   "source": [
    "brayns.scene.models[0][\"id\"]"
   ]
  },
  {
   "cell_type": "markdown",
   "metadata": {},
   "source": [
    "## Materials"
   ]
  },
  {
   "cell_type": "code",
   "execution_count": 62,
   "metadata": {},
   "outputs": [
    {
     "data": {
      "text/plain": [
       "'OK'"
      ]
     },
     "execution_count": 62,
     "metadata": {},
     "output_type": "execute_result"
    }
   ],
   "source": [
    "id=brayns.scene.models[0][\"id\"]\n",
    "circuit_explorer.set_material_extra_attributes(model_id=id)\n",
    "circuit_explorer.set_material(\n",
    "    glossiness=1, opacity=1,\n",
    "    model_id=id, material_id=0, \n",
    "    diffuse_color=(1,0,0),\n",
    "    shading_mode=circuit_explorer.SHADING_MODE_DIFFUSE)"
   ]
  },
  {
   "cell_type": "markdown",
   "metadata": {},
   "source": [
    "## Shading options"
   ]
  },
  {
   "cell_type": "code",
   "execution_count": null,
   "metadata": {},
   "outputs": [],
   "source": [
    "params = brayns.AdvancedSimulationRendererParams()\n",
    "params.shadows=1\n",
    "params.soft_shadows=1\n",
    "params.pixel_alpha=2\n",
    "brayns.set_renderer_params(params)"
   ]
  },
  {
   "cell_type": "code",
   "execution_count": null,
   "metadata": {},
   "outputs": [],
   "source": [
    "brayns.set_environment_map('/gpfs/bbp.cscs.ch/project/proj3/resources/envmap/0002.jpg')"
   ]
  },
  {
   "cell_type": "code",
   "execution_count": null,
   "metadata": {},
   "outputs": [],
   "source": [
    "img = brayns.image(\n",
    "    format='png', quality=100, samples_per_pixel=16, size=(800,600))"
   ]
  },
  {
   "cell_type": "code",
   "execution_count": 72,
   "metadata": {},
   "outputs": [
    {
     "name": "stdout",
     "output_type": "stream",
     "text": [
      "{'host': 'r1i7n13:5000', 'modelId': 13, 'materialId': 0, 'opacity': 1, 'glossiness': 1, 'diffuseColor': [1, 0, 0], 'shadingMode': 'cartoon'}\n"
     ]
    },
    {
     "data": {
      "text/plain": [
       "True"
      ]
     },
     "execution_count": 72,
     "metadata": {},
     "output_type": "execute_result"
    }
   ],
   "source": [
    "input = {\n",
    "    \"host\":\"r1i7n13:5000\",\n",
    "    \"modelId\":brayns.scene.models[0][\"id\"],\n",
    "    \"materialId\":0,\n",
    "    \"opacity\":1,\n",
    "    \"glossiness\":1,\n",
    "    \"diffuseColor\":[1,0,0],\n",
    "    \"shadingMode\":\"cartoon\"\n",
    "}\n",
    "\n",
    "print(input)\n",
    "\n",
    "class Error(Exception):\n",
    "    def __init__(self, code, text):\n",
    "        self.code = code\n",
    "        self.text = text\n",
    "\n",
    "\n",
    "class MissingInput(Error):\n",
    "    def __init__(self, att_name):\n",
    "        self.code = 1\n",
    "        self.text = f\"Missing mandatory input attribute: \\\"{att_name}\\\"!\"\n",
    "\n",
    "def exec(input):\n",
    "    \"\"\"\n",
    "    Set a material for a model.\n",
    "\n",
    "    IN: {\n",
    "      host: string,\n",
    "      modelId: number,\n",
    "      materialId: number,\n",
    "      diffuseColor: [number,number,number],\n",
    "      shadingMode: \"none\"|  \"diffuse\" | \"cartoon\" | \"electron\",\n",
    "      glossiness?: number,\n",
    "      opacity?: number\n",
    "    }\n",
    "    \"\"\"\n",
    "    for att_name in (\"host\", \"modelId\", \"materialId\", \"diffuseColor\", \"shadingMode\"):\n",
    "        if att_name not in input:\n",
    "            raise MissingInput(att_name)\n",
    "\n",
    "    brayns = Client(input[\"host\"])\n",
    "    circuit_explorer = CircuitExplorer(brayns)\n",
    "\n",
    "    circuit_explorer.set_material_extra_attributes(model_id=input[\"modelId\"])\n",
    "\n",
    "    shading_mode = input[\"shadingMode\"]\n",
    "    if shading_mode == \"diffuse\":\n",
    "        shading_mode = CircuitExplorer.SHADING_MODE_DIFFUSE\n",
    "    elif shading_mode == \"cartoon\":\n",
    "        shading_mode = CircuitExplorer.SHADING_MODE_CARTOON\n",
    "    elif shading_mode == \"electron\":\n",
    "        shading_mode = CircuitExplorer.SHADING_MODE_ELECTRON\n",
    "    else:\n",
    "        shading_mode = CircuitExplorer.SHADING_MODE_NONE\n",
    "\n",
    "    if \"glossiness\" not in input:\n",
    "        input[\"glossiness\"] = 0\n",
    "    if \"opacity\" not in input:\n",
    "        input[\"opacity\"] = 1\n",
    "\n",
    "    circuit_explorer.set_material(\n",
    "        glossiness=input[\"glossiness\"],\n",
    "        opacity=input[\"opacity\"],\n",
    "        model_id=input[\"modelId\"],\n",
    "        material_id=input[\"materialId\"],\n",
    "        diffuse_color=input[\"diffuseColor\"],\n",
    "        shading_mode=shading_mode)\n",
    "\n",
    "    return True\n",
    "\n",
    "exec(input)"
   ]
  },
  {
   "cell_type": "markdown",
   "metadata": {},
   "source": [
    "## Add grid"
   ]
  },
  {
   "cell_type": "code",
   "execution_count": null,
   "metadata": {},
   "outputs": [],
   "source": [
    "circuit_explorer.add_grid(colored=True, show_axis=False, opacity=0.5,\n",
    "    min_value=-20000, max_value=20000, interval=1000)"
   ]
  },
  {
   "cell_type": "markdown",
   "metadata": {},
   "source": [
    "## Camera path"
   ]
  },
  {
   "cell_type": "code",
   "execution_count": null,
   "metadata": {},
   "outputs": [],
   "source": [
    "control_points = list()"
   ]
  },
  {
   "cell_type": "code",
   "execution_count": null,
   "metadata": {},
   "outputs": [],
   "source": [
    "control_points.append(circuit_explorer.get_camera())"
   ]
  },
  {
   "cell_type": "code",
   "execution_count": null,
   "metadata": {},
   "outputs": [],
   "source": [
    "control_points"
   ]
  },
  {
   "cell_type": "code",
   "execution_count": null,
   "metadata": {},
   "outputs": [],
   "source": [
    "camera_path = CameraPathHandler(control_points, 100, 100)"
   ]
  },
  {
   "cell_type": "code",
   "execution_count": null,
   "metadata": {},
   "outputs": [],
   "source": [
    "camera_path.get_key_frame(10)"
   ]
  },
  {
   "cell_type": "code",
   "execution_count": null,
   "metadata": {},
   "outputs": [],
   "source": [
    "for i in range(camera_path.get_nb_frames()):\n",
    "#     import time\n",
    "#     time.sleep(0.1)\n",
    "    kf = camera_path.get_key_frame(i)\n",
    "    circuit_explorer.set_camera(origin=kf[0], direction=kf[1], up=kf[2])"
   ]
  },
  {
   "cell_type": "markdown",
   "metadata": {},
   "source": [
    "## Export movie"
   ]
  },
  {
   "cell_type": "code",
   "execution_count": null,
   "metadata": {},
   "outputs": [],
   "source": [
    "animation_frames=list()\n",
    "camera_definitions = list()\n",
    "for i in range(camera_path.get_nb_frames()):\n",
    "    animation_frames.append(0)\n",
    "    camera_definitions.append(camera_path.get_key_frame(i))"
   ]
  },
  {
   "cell_type": "code",
   "execution_count": null,
   "metadata": {},
   "outputs": [],
   "source": [
    "brayns.set_application_parameters(viewport=[800,600])"
   ]
  },
  {
   "cell_type": "code",
   "execution_count": null,
   "metadata": {},
   "outputs": [],
   "source": [
    "circuit_explorer.export_frames_to_disk(\n",
    "    animation_frames=animation_frames, \n",
    "    camera_definitions=camera_definitions, \n",
    "    path='/gpfs/bbp.cscs.ch/project/proj3/projects/mopro/tmp/normals/', \n",
    "    samples_per_pixel=1)"
   ]
  },
  {
   "cell_type": "code",
   "execution_count": null,
   "metadata": {},
   "outputs": [],
   "source": [
    "circuit_explorer.cancel_frames_export()"
   ]
  }
 ],
 "metadata": {
  "kernelspec": {
   "display_name": "Python 3",
   "language": "python",
   "name": "python3"
  },
  "language_info": {
   "codemirror_mode": {
    "name": "ipython",
    "version": 3
   },
   "file_extension": ".py",
   "mimetype": "text/x-python",
   "name": "python",
   "nbconvert_exporter": "python",
   "pygments_lexer": "ipython3",
   "version": "3.7.5"
  }
 },
 "nbformat": 4,
 "nbformat_minor": 2
}
