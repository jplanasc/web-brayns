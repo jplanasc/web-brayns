{
 "cells": [
  {
   "cell_type": "code",
   "execution_count": 1,
   "metadata": {},
   "outputs": [
    {
     "name": "stdout",
     "output_type": "stream",
     "text": [
      "Collecting brayns==0.8.0\n",
      "Collecting python-jsonschema-objects~=0.3.5 (from brayns==0.8.0)\n",
      "  Using cached https://files.pythonhosted.org/packages/10/28/43b2e69d62bb984806b1733710516f03b486e101372583fa26652b237a6f/python_jsonschema_objects-0.3.10-py2.py3-none-any.whl\n",
      "Collecting requests~=2.21.0 (from brayns==0.8.0)\n",
      "  Using cached https://files.pythonhosted.org/packages/7d/e3/20f3d364d6c8e5d2353c72a67778eb189176f08e873c9900e10c0287b84b/requests-2.21.0-py2.py3-none-any.whl\n",
      "Collecting rockets~=1.0.1 (from brayns==0.8.0)\n",
      "Collecting semver~=2.8.1 (from brayns==0.8.0)\n",
      "  Using cached https://files.pythonhosted.org/packages/21/18/a0de8cda637ba3efee1b3617ded00601507ce15bd70a39399740e0fd415f/semver-2.8.1-py2.py3-none-any.whl\n",
      "Collecting Pillow~=5.4.1 (from brayns==0.8.0)\n",
      "  Using cached https://files.pythonhosted.org/packages/85/5e/e91792f198bbc5a0d7d3055ad552bc4062942d27eaf75c3e2783cf64eae5/Pillow-5.4.1-cp36-cp36m-manylinux1_x86_64.whl\n",
      "Requirement already satisfied: six>=1.5.2 in /home/petitjea/Code/virtual/python3/lib/python3.6/site-packages (from python-jsonschema-objects~=0.3.5->brayns==0.8.0) (1.12.0)\n",
      "Collecting inflection>=0.2 (from python-jsonschema-objects~=0.3.5->brayns==0.8.0)\n",
      "Requirement already satisfied: jsonschema>=2.3 in /home/petitjea/Code/virtual/python3/lib/python3.6/site-packages (from python-jsonschema-objects~=0.3.5->brayns==0.8.0) (3.0.1)\n",
      "Collecting Markdown>=2.4 (from python-jsonschema-objects~=0.3.5->brayns==0.8.0)\n",
      "  Using cached https://files.pythonhosted.org/packages/c0/4e/fd492e91abdc2d2fcb70ef453064d980688762079397f779758e055f6575/Markdown-3.1.1-py2.py3-none-any.whl\n",
      "Collecting urllib3<1.25,>=1.21.1 (from requests~=2.21.0->brayns==0.8.0)\n",
      "\u001b[?25l  Downloading https://files.pythonhosted.org/packages/01/11/525b02e4acc0c747de8b6ccdab376331597c569c42ea66ab0a1dbd36eca2/urllib3-1.24.3-py2.py3-none-any.whl (118kB)\n",
      "\u001b[K     |████████████████████████████████| 122kB 3.0MB/s eta 0:00:01\n",
      "\u001b[?25hCollecting idna<2.9,>=2.5 (from requests~=2.21.0->brayns==0.8.0)\n",
      "\u001b[?25l  Downloading https://files.pythonhosted.org/packages/14/2c/cd551d81dbe15200be1cf41cd03869a46fe7226e7450af7a6545bfc474c9/idna-2.8-py2.py3-none-any.whl (58kB)\n",
      "\u001b[K     |████████████████████████████████| 61kB 53.2MB/s eta 0:00:01\n",
      "\u001b[?25hCollecting chardet<3.1.0,>=3.0.2 (from requests~=2.21.0->brayns==0.8.0)\n",
      "\u001b[?25l  Downloading https://files.pythonhosted.org/packages/bc/a9/01ffebfb562e4274b6487b4bb1ddec7ca55ec7510b22e4c51f14098443b8/chardet-3.0.4-py2.py3-none-any.whl (133kB)\n",
      "\u001b[K     |████████████████████████████████| 143kB 72.3MB/s eta 0:00:01\n",
      "\u001b[?25hCollecting certifi>=2017.4.17 (from requests~=2.21.0->brayns==0.8.0)\n",
      "\u001b[?25l  Downloading https://files.pythonhosted.org/packages/69/1b/b853c7a9d4f6a6d00749e94eb6f3a041e342a885b87340b79c1ef73e3a78/certifi-2019.6.16-py2.py3-none-any.whl (157kB)\n",
      "\u001b[K     |████████████████████████████████| 163kB 95.0MB/s eta 0:00:01\n",
      "\u001b[?25hCollecting rx~=1.6.1 (from rockets~=1.0.1->brayns==0.8.0)\n",
      "  Using cached https://files.pythonhosted.org/packages/33/0f/5ef4ac78e2a538cc1b054eb86285fe0bf7a5dbaeaac2c584757c300515e2/Rx-1.6.1-py2.py3-none-any.whl\n",
      "Collecting json-rpc~=1.11.1 (from rockets~=1.0.1->brayns==0.8.0)\n",
      "  Using cached https://files.pythonhosted.org/packages/d2/c1/4795383bbce585fc376be66ad54cf670543a5c3349783c8a520d5a6402bd/json_rpc-1.11.1-py2.py3-none-any.whl\n",
      "Collecting websockets~=7.0 (from rockets~=1.0.1->brayns==0.8.0)\n",
      "  Using cached https://files.pythonhosted.org/packages/43/71/8bfa882b9c502c36e5c9ef6732969533670d2b039cbf95a82ced8f762b80/websockets-7.0-cp36-cp36m-manylinux1_x86_64.whl\n",
      "Requirement already satisfied: setuptools in /home/petitjea/Code/virtual/python3/lib/python3.6/site-packages (from jsonschema>=2.3->python-jsonschema-objects~=0.3.5->brayns==0.8.0) (41.0.1)\n",
      "Requirement already satisfied: pyrsistent>=0.14.0 in /home/petitjea/Code/virtual/python3/lib/python3.6/site-packages (from jsonschema>=2.3->python-jsonschema-objects~=0.3.5->brayns==0.8.0) (0.15.3)\n",
      "Requirement already satisfied: attrs>=17.4.0 in /home/petitjea/Code/virtual/python3/lib/python3.6/site-packages (from jsonschema>=2.3->python-jsonschema-objects~=0.3.5->brayns==0.8.0) (19.1.0)\n",
      "Installing collected packages: inflection, Markdown, python-jsonschema-objects, urllib3, idna, chardet, certifi, requests, rx, json-rpc, websockets, rockets, semver, Pillow, brayns\n",
      "Successfully installed Markdown-3.1.1 Pillow-5.4.1 brayns-0.8.0 certifi-2019.6.16 chardet-3.0.4 idna-2.8 inflection-0.3.1 json-rpc-1.11.1 python-jsonschema-objects-0.3.10 requests-2.21.0 rockets-1.0.1 rx-1.6.1 semver-2.8.1 urllib3-1.24.3 websockets-7.0\n",
      "Collecting phaneron==0.1.11\n",
      "Collecting matplotlib>==2.1.2 (from phaneron==0.1.11)\n",
      "  Using cached https://files.pythonhosted.org/packages/57/4f/dd381ecf6c6ab9bcdaa8ea912e866dedc6e696756156d8ecc087e20817e2/matplotlib-3.1.1-cp36-cp36m-manylinux1_x86_64.whl\n",
      "Requirement already satisfied: brayns>=0.8.0 in /home/petitjea/Code/virtual/python3/lib/python3.6/site-packages (from phaneron==0.1.11) (0.8.0)\n",
      "Collecting seaborn>==0.8.1 (from phaneron==0.1.11)\n",
      "  Using cached https://files.pythonhosted.org/packages/a8/76/220ba4420459d9c4c9c9587c6ce607bf56c25b3d3d2de62056efe482dadc/seaborn-0.9.0-py3-none-any.whl\n",
      "Collecting scipy>==1.3.0 (from phaneron==0.1.11)\n",
      "  Using cached https://files.pythonhosted.org/packages/72/4c/5f81e7264b0a7a8bd570810f48cd346ba36faedbd2ba255c873ad556de76/scipy-1.3.0-cp36-cp36m-manylinux1_x86_64.whl\n",
      "Collecting numpy>==1.14.5 (from phaneron==0.1.11)\n",
      "\u001b[?25l  Downloading https://files.pythonhosted.org/packages/ca/a1/46477f7d9abbe8e616a3686262dcd9852bb412df63581aa168d044d4e7fe/numpy-1.17.0rc2-cp36-cp36m-manylinux1_x86_64.whl (20.3MB)\n",
      "\u001b[K     |████████████████████████████████| 20.3MB 3.0MB/s eta 0:00:01\n",
      "\u001b[?25hCollecting kiwisolver>=1.0.1 (from matplotlib>==2.1.2->phaneron==0.1.11)\n",
      "  Using cached https://files.pythonhosted.org/packages/f8/a1/5742b56282449b1c0968197f63eae486eca2c35dcd334bab75ad524e0de1/kiwisolver-1.1.0-cp36-cp36m-manylinux1_x86_64.whl\n",
      "Collecting cycler>=0.10 (from matplotlib>==2.1.2->phaneron==0.1.11)\n",
      "  Using cached https://files.pythonhosted.org/packages/f7/d2/e07d3ebb2bd7af696440ce7e754c59dd546ffe1bbe732c8ab68b9c834e61/cycler-0.10.0-py2.py3-none-any.whl\n",
      "Requirement already satisfied: python-dateutil>=2.1 in /home/petitjea/Code/virtual/python3/lib/python3.6/site-packages (from matplotlib>==2.1.2->phaneron==0.1.11) (2.8.0)\n",
      "Collecting pyparsing!=2.0.4,!=2.1.2,!=2.1.6,>=2.0.1 (from matplotlib>==2.1.2->phaneron==0.1.11)\n",
      "  Using cached https://files.pythonhosted.org/packages/dd/d9/3ec19e966301a6e25769976999bd7bbe552016f0d32b577dc9d63d2e0c49/pyparsing-2.4.0-py2.py3-none-any.whl\n",
      "Requirement already satisfied: semver~=2.8.1 in /home/petitjea/Code/virtual/python3/lib/python3.6/site-packages (from brayns>=0.8.0->phaneron==0.1.11) (2.8.1)\n",
      "Requirement already satisfied: rockets~=1.0.1 in /home/petitjea/Code/virtual/python3/lib/python3.6/site-packages (from brayns>=0.8.0->phaneron==0.1.11) (1.0.1)\n",
      "Requirement already satisfied: python-jsonschema-objects~=0.3.5 in /home/petitjea/Code/virtual/python3/lib/python3.6/site-packages (from brayns>=0.8.0->phaneron==0.1.11) (0.3.10)\n",
      "Requirement already satisfied: Pillow~=5.4.1 in /home/petitjea/Code/virtual/python3/lib/python3.6/site-packages (from brayns>=0.8.0->phaneron==0.1.11) (5.4.1)\n",
      "Requirement already satisfied: requests~=2.21.0 in /home/petitjea/Code/virtual/python3/lib/python3.6/site-packages (from brayns>=0.8.0->phaneron==0.1.11) (2.21.0)\n",
      "Collecting pandas>=0.15.2 (from seaborn>==0.8.1->phaneron==0.1.11)\n",
      "  Using cached https://files.pythonhosted.org/packages/19/74/e50234bc82c553fecdbd566d8650801e3fe2d6d8c8d940638e3d8a7c5522/pandas-0.24.2-cp36-cp36m-manylinux1_x86_64.whl\n",
      "Requirement already satisfied: setuptools in /home/petitjea/Code/virtual/python3/lib/python3.6/site-packages (from kiwisolver>=1.0.1->matplotlib>==2.1.2->phaneron==0.1.11) (41.0.1)\n",
      "Requirement already satisfied: six in /home/petitjea/Code/virtual/python3/lib/python3.6/site-packages (from cycler>=0.10->matplotlib>==2.1.2->phaneron==0.1.11) (1.12.0)\n",
      "Requirement already satisfied: json-rpc~=1.11.1 in /home/petitjea/Code/virtual/python3/lib/python3.6/site-packages (from rockets~=1.0.1->brayns>=0.8.0->phaneron==0.1.11) (1.11.1)\n",
      "Requirement already satisfied: rx~=1.6.1 in /home/petitjea/Code/virtual/python3/lib/python3.6/site-packages (from rockets~=1.0.1->brayns>=0.8.0->phaneron==0.1.11) (1.6.1)\n",
      "Requirement already satisfied: websockets~=7.0 in /home/petitjea/Code/virtual/python3/lib/python3.6/site-packages (from rockets~=1.0.1->brayns>=0.8.0->phaneron==0.1.11) (7.0)\n",
      "Requirement already satisfied: inflection>=0.2 in /home/petitjea/Code/virtual/python3/lib/python3.6/site-packages (from python-jsonschema-objects~=0.3.5->brayns>=0.8.0->phaneron==0.1.11) (0.3.1)\n",
      "Requirement already satisfied: jsonschema>=2.3 in /home/petitjea/Code/virtual/python3/lib/python3.6/site-packages (from python-jsonschema-objects~=0.3.5->brayns>=0.8.0->phaneron==0.1.11) (3.0.1)\n",
      "Requirement already satisfied: Markdown>=2.4 in /home/petitjea/Code/virtual/python3/lib/python3.6/site-packages (from python-jsonschema-objects~=0.3.5->brayns>=0.8.0->phaneron==0.1.11) (3.1.1)\n",
      "Requirement already satisfied: certifi>=2017.4.17 in /home/petitjea/Code/virtual/python3/lib/python3.6/site-packages (from requests~=2.21.0->brayns>=0.8.0->phaneron==0.1.11) (2019.6.16)\n",
      "Requirement already satisfied: urllib3<1.25,>=1.21.1 in /home/petitjea/Code/virtual/python3/lib/python3.6/site-packages (from requests~=2.21.0->brayns>=0.8.0->phaneron==0.1.11) (1.24.3)\n",
      "Requirement already satisfied: idna<2.9,>=2.5 in /home/petitjea/Code/virtual/python3/lib/python3.6/site-packages (from requests~=2.21.0->brayns>=0.8.0->phaneron==0.1.11) (2.8)\n",
      "Requirement already satisfied: chardet<3.1.0,>=3.0.2 in /home/petitjea/Code/virtual/python3/lib/python3.6/site-packages (from requests~=2.21.0->brayns>=0.8.0->phaneron==0.1.11) (3.0.4)\n",
      "Collecting pytz>=2011k (from pandas>=0.15.2->seaborn>==0.8.1->phaneron==0.1.11)\n"
     ]
    },
    {
     "name": "stdout",
     "output_type": "stream",
     "text": [
      "\u001b[?25l  Downloading https://files.pythonhosted.org/packages/3d/73/fe30c2daaaa0713420d0382b16fbb761409f532c56bdcc514bf7b6262bb6/pytz-2019.1-py2.py3-none-any.whl (510kB)\n",
      "\u001b[K     |████████████████████████████████| 512kB 78.9MB/s eta 0:00:01\n",
      "\u001b[?25hRequirement already satisfied: pyrsistent>=0.14.0 in /home/petitjea/Code/virtual/python3/lib/python3.6/site-packages (from jsonschema>=2.3->python-jsonschema-objects~=0.3.5->brayns>=0.8.0->phaneron==0.1.11) (0.15.3)\n",
      "Requirement already satisfied: attrs>=17.4.0 in /home/petitjea/Code/virtual/python3/lib/python3.6/site-packages (from jsonschema>=2.3->python-jsonschema-objects~=0.3.5->brayns>=0.8.0->phaneron==0.1.11) (19.1.0)\n",
      "Installing collected packages: kiwisolver, numpy, cycler, pyparsing, matplotlib, pytz, pandas, scipy, seaborn, phaneron\n",
      "Successfully installed cycler-0.10.0 kiwisolver-1.1.0 matplotlib-3.1.1 numpy-1.17.0rc2 pandas-0.24.2 phaneron-0.1.11 pyparsing-2.4.0 pytz-2019.1 scipy-1.3.0 seaborn-0.9.0\n",
      "Requirement already satisfied: ipywidgets in /home/petitjea/Code/virtual/python3/lib/python3.6/site-packages (7.5.0)\n",
      "Requirement already satisfied: traitlets>=4.3.1 in /home/petitjea/Code/virtual/python3/lib/python3.6/site-packages (from ipywidgets) (4.3.2)\n",
      "Requirement already satisfied: nbformat>=4.2.0 in /home/petitjea/Code/virtual/python3/lib/python3.6/site-packages (from ipywidgets) (4.4.0)\n",
      "Requirement already satisfied: ipykernel>=4.5.1 in /home/petitjea/Code/virtual/python3/lib/python3.6/site-packages (from ipywidgets) (5.1.1)\n",
      "Requirement already satisfied: widgetsnbextension~=3.5.0 in /home/petitjea/Code/virtual/python3/lib/python3.6/site-packages (from ipywidgets) (3.5.0)\n",
      "Requirement already satisfied: ipython>=4.0.0; python_version >= \"3.3\" in /home/petitjea/Code/virtual/python3/lib/python3.6/site-packages (from ipywidgets) (7.6.1)\n",
      "Requirement already satisfied: ipython-genutils in /home/petitjea/Code/virtual/python3/lib/python3.6/site-packages (from traitlets>=4.3.1->ipywidgets) (0.2.0)\n",
      "Requirement already satisfied: decorator in /home/petitjea/Code/virtual/python3/lib/python3.6/site-packages (from traitlets>=4.3.1->ipywidgets) (4.4.0)\n",
      "Requirement already satisfied: six in /home/petitjea/Code/virtual/python3/lib/python3.6/site-packages (from traitlets>=4.3.1->ipywidgets) (1.12.0)\n",
      "Requirement already satisfied: jsonschema!=2.5.0,>=2.4 in /home/petitjea/Code/virtual/python3/lib/python3.6/site-packages (from nbformat>=4.2.0->ipywidgets) (3.0.1)\n",
      "Requirement already satisfied: jupyter-core in /home/petitjea/Code/virtual/python3/lib/python3.6/site-packages (from nbformat>=4.2.0->ipywidgets) (4.5.0)\n",
      "Requirement already satisfied: tornado>=4.2 in /home/petitjea/Code/virtual/python3/lib/python3.6/site-packages (from ipykernel>=4.5.1->ipywidgets) (6.0.3)\n",
      "Requirement already satisfied: jupyter-client in /home/petitjea/Code/virtual/python3/lib/python3.6/site-packages (from ipykernel>=4.5.1->ipywidgets) (5.3.1)\n",
      "Requirement already satisfied: notebook>=4.4.1 in /home/petitjea/Code/virtual/python3/lib/python3.6/site-packages (from widgetsnbextension~=3.5.0->ipywidgets) (6.0.0)\n",
      "Requirement already satisfied: pexpect; sys_platform != \"win32\" in /home/petitjea/Code/virtual/python3/lib/python3.6/site-packages (from ipython>=4.0.0; python_version >= \"3.3\"->ipywidgets) (4.7.0)\n",
      "Requirement already satisfied: pickleshare in /home/petitjea/Code/virtual/python3/lib/python3.6/site-packages (from ipython>=4.0.0; python_version >= \"3.3\"->ipywidgets) (0.7.5)\n",
      "Requirement already satisfied: jedi>=0.10 in /home/petitjea/Code/virtual/python3/lib/python3.6/site-packages (from ipython>=4.0.0; python_version >= \"3.3\"->ipywidgets) (0.14.1)\n",
      "Requirement already satisfied: setuptools>=18.5 in /home/petitjea/Code/virtual/python3/lib/python3.6/site-packages (from ipython>=4.0.0; python_version >= \"3.3\"->ipywidgets) (41.0.1)\n",
      "Requirement already satisfied: prompt-toolkit<2.1.0,>=2.0.0 in /home/petitjea/Code/virtual/python3/lib/python3.6/site-packages (from ipython>=4.0.0; python_version >= \"3.3\"->ipywidgets) (2.0.9)\n",
      "Requirement already satisfied: backcall in /home/petitjea/Code/virtual/python3/lib/python3.6/site-packages (from ipython>=4.0.0; python_version >= \"3.3\"->ipywidgets) (0.1.0)\n",
      "Requirement already satisfied: pygments in /home/petitjea/Code/virtual/python3/lib/python3.6/site-packages (from ipython>=4.0.0; python_version >= \"3.3\"->ipywidgets) (2.4.2)\n",
      "Requirement already satisfied: pyrsistent>=0.14.0 in /home/petitjea/Code/virtual/python3/lib/python3.6/site-packages (from jsonschema!=2.5.0,>=2.4->nbformat>=4.2.0->ipywidgets) (0.15.3)\n",
      "Requirement already satisfied: attrs>=17.4.0 in /home/petitjea/Code/virtual/python3/lib/python3.6/site-packages (from jsonschema!=2.5.0,>=2.4->nbformat>=4.2.0->ipywidgets) (19.1.0)\n",
      "Requirement already satisfied: pyzmq>=13 in /home/petitjea/Code/virtual/python3/lib/python3.6/site-packages (from jupyter-client->ipykernel>=4.5.1->ipywidgets) (18.0.2)\n",
      "Requirement already satisfied: python-dateutil>=2.1 in /home/petitjea/Code/virtual/python3/lib/python3.6/site-packages (from jupyter-client->ipykernel>=4.5.1->ipywidgets) (2.8.0)\n",
      "Requirement already satisfied: nbconvert in /home/petitjea/Code/virtual/python3/lib/python3.6/site-packages (from notebook>=4.4.1->widgetsnbextension~=3.5.0->ipywidgets) (5.5.0)\n",
      "Requirement already satisfied: jinja2 in /home/petitjea/Code/virtual/python3/lib/python3.6/site-packages (from notebook>=4.4.1->widgetsnbextension~=3.5.0->ipywidgets) (2.10.1)\n",
      "Requirement already satisfied: Send2Trash in /home/petitjea/Code/virtual/python3/lib/python3.6/site-packages (from notebook>=4.4.1->widgetsnbextension~=3.5.0->ipywidgets) (1.5.0)\n",
      "Requirement already satisfied: terminado>=0.8.1 in /home/petitjea/Code/virtual/python3/lib/python3.6/site-packages (from notebook>=4.4.1->widgetsnbextension~=3.5.0->ipywidgets) (0.8.2)\n",
      "Requirement already satisfied: prometheus-client in /home/petitjea/Code/virtual/python3/lib/python3.6/site-packages (from notebook>=4.4.1->widgetsnbextension~=3.5.0->ipywidgets) (0.7.1)\n",
      "Requirement already satisfied: ptyprocess>=0.5 in /home/petitjea/Code/virtual/python3/lib/python3.6/site-packages (from pexpect; sys_platform != \"win32\"->ipython>=4.0.0; python_version >= \"3.3\"->ipywidgets) (0.6.0)\n",
      "Requirement already satisfied: parso>=0.5.0 in /home/petitjea/Code/virtual/python3/lib/python3.6/site-packages (from jedi>=0.10->ipython>=4.0.0; python_version >= \"3.3\"->ipywidgets) (0.5.1)\n",
      "Requirement already satisfied: wcwidth in /home/petitjea/Code/virtual/python3/lib/python3.6/site-packages (from prompt-toolkit<2.1.0,>=2.0.0->ipython>=4.0.0; python_version >= \"3.3\"->ipywidgets) (0.1.7)\n",
      "Requirement already satisfied: entrypoints>=0.2.2 in /home/petitjea/Code/virtual/python3/lib/python3.6/site-packages (from nbconvert->notebook>=4.4.1->widgetsnbextension~=3.5.0->ipywidgets) (0.3)\n",
      "Requirement already satisfied: defusedxml in /home/petitjea/Code/virtual/python3/lib/python3.6/site-packages (from nbconvert->notebook>=4.4.1->widgetsnbextension~=3.5.0->ipywidgets) (0.6.0)\n",
      "Requirement already satisfied: testpath in /home/petitjea/Code/virtual/python3/lib/python3.6/site-packages (from nbconvert->notebook>=4.4.1->widgetsnbextension~=3.5.0->ipywidgets) (0.4.2)\n",
      "Requirement already satisfied: pandocfilters>=1.4.1 in /home/petitjea/Code/virtual/python3/lib/python3.6/site-packages (from nbconvert->notebook>=4.4.1->widgetsnbextension~=3.5.0->ipywidgets) (1.4.2)\n",
      "Requirement already satisfied: mistune>=0.8.1 in /home/petitjea/Code/virtual/python3/lib/python3.6/site-packages (from nbconvert->notebook>=4.4.1->widgetsnbextension~=3.5.0->ipywidgets) (0.8.4)\n",
      "Requirement already satisfied: bleach in /home/petitjea/Code/virtual/python3/lib/python3.6/site-packages (from nbconvert->notebook>=4.4.1->widgetsnbextension~=3.5.0->ipywidgets) (3.1.0)\n",
      "Requirement already satisfied: MarkupSafe>=0.23 in /home/petitjea/Code/virtual/python3/lib/python3.6/site-packages (from jinja2->notebook>=4.4.1->widgetsnbextension~=3.5.0->ipywidgets) (1.1.1)\n",
      "Requirement already satisfied: webencodings in /home/petitjea/Code/virtual/python3/lib/python3.6/site-packages (from bleach->nbconvert->notebook>=4.4.1->widgetsnbextension~=3.5.0->ipywidgets) (0.5.1)\n"
     ]
    }
   ],
   "source": [
    "!pip install brayns==0.8.0\n",
    "!pip install phaneron==0.1.11\n",
    "!pip install ipywidgets"
   ]
  },
  {
   "cell_type": "markdown",
   "metadata": {},
   "source": [
    "# Allocate and start Brayns on BB5"
   ]
  },
  {
   "cell_type": "raw",
   "metadata": {},
   "source": [
    "module purge\n",
    "module load nix/viz/circuit-explorer/latest\n",
    "braynsService --http-server :5000 --plugin braynsCircuitExplorer --module braynsCircuitExplorer"
   ]
  },
  {
   "cell_type": "markdown",
   "metadata": {},
   "source": [
    "# Start scripting!"
   ]
  },
  {
   "cell_type": "code",
   "execution_count": 1,
   "metadata": {},
   "outputs": [],
   "source": [
    "from brayns import Client, AsyncClient, __version__ as brayns_version\n",
    "from phaneron import CircuitExplorer, CameraPathHandler, __version__ as phaneron_version"
   ]
  },
  {
   "cell_type": "code",
   "execution_count": 2,
   "metadata": {},
   "outputs": [
    {
     "name": "stdout",
     "output_type": "stream",
     "text": [
      "brayns:   0.8.0\n",
      "phaneron: 0.1.11\n"
     ]
    }
   ],
   "source": [
    "print('brayns:   ' + brayns_version)\n",
    "print('phaneron: ' + phaneron_version)"
   ]
  },
  {
   "cell_type": "code",
   "execution_count": 10,
   "metadata": {},
   "outputs": [],
   "source": [
    "host = \"r1i4n34.bbp.epfl.ch:3863\"\n",
    "brayns = Client(host)\n",
    "asyncB = await AsyncClient(host)\n",
    "#circuit_explorer = CircuitExplorer(brayns)"
   ]
  },
  {
   "cell_type": "code",
   "execution_count": 11,
   "metadata": {},
   "outputs": [
    {
     "data": {
      "application/vnd.jupyter.widget-view+json": {
       "model_id": "6e685622af5045769c4a42d3f018db51",
       "version_major": 2,
       "version_minor": 0
      },
      "text/plain": [
       "Image(value=b'\\xff\\xd8\\xff\\xe0\\x00\\x10JFIF\\x00\\x01\\x01\\x01\\x00H\\x00H\\x00\\x00\\xff\\xdb\\x00C\\x00\\x03\\x02\\x02\\x03\\…"
      ]
     },
     "metadata": {},
     "output_type": "display_data"
    }
   ],
   "source": [
    "brayns.show()"
   ]
  },
  {
   "cell_type": "code",
   "execution_count": 13,
   "metadata": {},
   "outputs": [
    {
     "data": {
      "text/plain": [
       "True"
      ]
     },
     "execution_count": 13,
     "metadata": {},
     "output_type": "execute_result"
    }
   ],
   "source": [
    "brayns.set_camera(current=\"perspective\")"
   ]
  },
  {
   "cell_type": "code",
   "execution_count": 6,
   "metadata": {
    "collapsed": true
   },
   "outputs": [
    {
     "data": {
      "text/plain": [
       "{'data': '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'}"
      ]
     },
     "execution_count": 6,
     "metadata": {},
     "output_type": "execute_result"
    }
   ],
   "source": [
    "brayns.snapshot(format=\"jpeg\", size=(320,240))"
   ]
  },
  {
   "cell_type": "code",
   "execution_count": 21,
   "metadata": {
    "collapsed": true
   },
   "outputs": [
    {
     "data": {
      "image/png": "[encoded data removed]",
      "text/plain": [
       "<PIL.JpegImagePlugin.JpegImageFile image mode=RGB size=320x240 at 0x7F03D4D3B978>"
      ]
     },
     "execution_count": 21,
     "metadata": {},
     "output_type": "execute_result"
    }
   ],
   "source": [
    "brayns.image(size=(320, 240))"
   ]
  },
  {
   "cell_type": "code",
   "execution_count": 8,
   "metadata": {},
   "outputs": [
    {
     "data": {
      "application/vnd.jupyter.widget-view+json": {
       "model_id": "",
       "version_major": 2,
       "version_minor": 0
      },
      "text/plain": [
       "VBox(children=(Label(value=''), HBox(children=(FloatProgress(value=0.0, max=1.0), Button(description='Cancel',…"
      ]
     },
     "metadata": {},
     "output_type": "display_data"
    }
   ],
   "source": [
    "asyncB.image(size=(3200,2400), samples_per_pixel=1000)\n"
   ]
  },
  {
   "cell_type": "code",
   "execution_count": 11,
   "metadata": {},
   "outputs": [
    {
     "data": {
      "text/plain": [
       "True"
      ]
     },
     "execution_count": 11,
     "metadata": {},
     "output_type": "execute_result"
    }
   ],
   "source": [
    "await asyncB.set_camera(current=\"perspective\")"
   ]
  },
  {
   "cell_type": "code",
   "execution_count": 15,
   "metadata": {},
   "outputs": [],
   "source": [
    "myType = brayns.PerspectiveCameraParams()\n"
   ]
  },
  {
   "cell_type": "code",
   "execution_count": null,
   "metadata": {},
   "outputs": [],
   "source": [
    "myType."
   ]
  },
  {
   "cell_type": "code",
   "execution_count": null,
   "metadata": {},
   "outputs": [],
   "source": [
    "brayns.set_camera_params({\n",
    "    \n",
    "})\n",
    "\n"
   ]
  },
  {
   "cell_type": "markdown",
   "metadata": {},
   "source": [
    "# Next"
   ]
  },
  {
   "cell_type": "code",
   "execution_count": null,
   "metadata": {},
   "outputs": [],
   "source": [
    "brayns.rockets_client.request()"
   ]
  },
  {
   "cell_type": "markdown",
   "metadata": {},
   "source": [
    "## Add mouse brain model"
   ]
  },
  {
   "cell_type": "code",
   "execution_count": 73,
   "metadata": {},
   "outputs": [
    {
     "data": {
      "text/plain": [
       "{'bounding_box': False,\n",
       " 'bounds': {'max': [-1.7976931348623157e+308,\n",
       "   -1.7976931348623157e+308,\n",
       "   -1.7976931348623157e+308],\n",
       "  'min': [1.7976931348623157e+308,\n",
       "   1.7976931348623157e+308,\n",
       "   1.7976931348623157e+308]},\n",
       " 'id': 1,\n",
       " 'metadata': {'faces': '27136', 'meshes': '1', 'vertices': '81408'},\n",
       " 'name': 'GLIA_000009.h5_decimated',\n",
       " 'path': '/gpfs/bbp.cscs.ch/project/proj3/resources/meshes/astrocytes/GLIA_000009.h5_decimated.off',\n",
       " 'transformation': {'rotation': [0.0, 0.0, 0.0, 1.0],\n",
       "  'rotation_center': [0.0, 0.0, 0.0],\n",
       "  'scale': [1.0, 1.0, 1.0],\n",
       "  'translation': [0.0, 0.0, 0.0]},\n",
       " 'visible': True}"
      ]
     },
     "execution_count": 73,
     "metadata": {},
     "output_type": "execute_result"
    }
   ],
   "source": [
    "brayns.add_model(\n",
    "    path='/gpfs/bbp.cscs.ch/project/proj3/resources/meshes/astrocytes/GLIA_000000.h5_decimated.off')\n",
    "brayns.add_model(\n",
    "    path='/gpfs/bbp.cscs.ch/project/proj3/resources/meshes/astrocytes/GLIA_000009.h5_decimated.off')"
   ]
  },
  {
   "cell_type": "code",
   "execution_count": 77,
   "metadata": {},
   "outputs": [
    {
     "data": {
      "text/plain": [
       "{'bounding_box': False,\n",
       " 'bounds': {'max': [-1.7976931348623157e+308,\n",
       "   -1.7976931348623157e+308,\n",
       "   -1.7976931348623157e+308],\n",
       "  'min': [1.7976931348623157e+308,\n",
       "   1.7976931348623157e+308,\n",
       "   1.7976931348623157e+308]},\n",
       " 'id': 2,\n",
       " 'metadata': {'faces': '23820', 'meshes': '1', 'vertices': '71460'},\n",
       " 'name': 'GLIA_000027.h5_decimated',\n",
       " 'path': '/gpfs/bbp.cscs.ch/project/proj3/resources/meshes/astrocytes/GLIA_000027.h5_decimated.off',\n",
       " 'transformation': {'rotation': [0.0, 0.0, 0.0, 1.0],\n",
       "  'rotation_center': [0.0, 0.0, 0.0],\n",
       "  'scale': [1.0, 1.0, 1.0],\n",
       "  'translation': [0.0, 0.0, 0.0]},\n",
       " 'visible': True}"
      ]
     },
     "execution_count": 77,
     "metadata": {},
     "output_type": "execute_result"
    }
   ],
   "source": [
    "brayns.add_model(\n",
    "    path='/gpfs/bbp.cscs.ch/project/proj3/resources/meshes/astrocytes/GLIA_000027.h5_decimated.off')"
   ]
  },
  {
   "cell_type": "markdown",
   "metadata": {},
   "source": [
    "## List models"
   ]
  },
  {
   "cell_type": "code",
   "execution_count": 89,
   "metadata": {},
   "outputs": [
    {
     "name": "stdout",
     "output_type": "stream",
     "text": [
      "{'bounding_box': False, 'bounds': {'max': [23.210800170898438, 20.94420051574707, 37.620399475097656], 'min': [-28.133100509643555, -39.931800842285156, -12.681500434875488]}, 'id': 0, 'metadata': {'faces': '27170', 'meshes': '1', 'vertices': '81510'}, 'name': 'GLIA_000001.h5_decimated', 'path': '/gpfs/bbp.cscs.ch/project/proj3/resources/meshes/astrocytes/GLIA_000001.h5_decimated.off', 'transformation': {'rotation': [0.0, 0.0, 0.0, 1.0], 'rotation_center': [0.0, 0.0, 0.0], 'scale': [1.0, 1.0, 1.0], 'translation': [0.0, 0.0, 0.0]}, 'visible': True}\n",
      "\n"
     ]
    }
   ],
   "source": [
    "for model in brayns.scene.models:\n",
    "    print(model)\n",
    "    print()"
   ]
  },
  {
   "cell_type": "code",
   "execution_count": 56,
   "metadata": {},
   "outputs": [
    {
     "data": {
      "text/plain": [
       "True"
      ]
     },
     "execution_count": 56,
     "metadata": {},
     "output_type": "execute_result"
    }
   ],
   "source": [
    "transfo = {'rotation': [0.0, 0.0, 0.0, 1.0], \n",
    "           'rotation_center': [0.0, 0.0, 0.0], \n",
    "           'scale': [1.0, 1.0, 1.0], \n",
    "           'translation': [50.0, 0.0, 0.0]}\n",
    "brayns.update_model(id=1, transformation=transfo)"
   ]
  },
  {
   "cell_type": "markdown",
   "metadata": {},
   "source": [
    "## Materials"
   ]
  },
  {
   "cell_type": "code",
   "execution_count": 96,
   "metadata": {},
   "outputs": [
    {
     "data": {
      "text/plain": [
       "'OK'"
      ]
     },
     "execution_count": 96,
     "metadata": {},
     "output_type": "execute_result"
    }
   ],
   "source": [
    "circuit_explorer.set_material_extra_attributes(model_id=1)"
   ]
  },
  {
   "cell_type": "code",
   "execution_count": 99,
   "metadata": {},
   "outputs": [
    {
     "data": {
      "text/plain": [
       "'OK'"
      ]
     },
     "execution_count": 99,
     "metadata": {},
     "output_type": "execute_result"
    }
   ],
   "source": [
    "circuit_explorer.set_material(glossiness=1,\n",
    "                              opacity=1, \n",
    "                              refraction_index=0,\n",
    "                              model_id=1, \n",
    "                              material_id=0, \n",
    "                              diffuse_color=(.5,1,.75),\n",
    "                              shading_mode=circuit_explorer.SHADING_MODE_ELECTRON_TRANSPARENCY)"
   ]
  },
  {
   "cell_type": "markdown",
   "metadata": {},
   "source": [
    "## Shading options"
   ]
  },
  {
   "cell_type": "code",
   "execution_count": null,
   "metadata": {},
   "outputs": [],
   "source": [
    "params = brayns.AdvancedSimulationRendererParams()\n",
    "params.shadows=1\n",
    "params.soft_shadows=1\n",
    "params.pixel_alpha=2\n",
    "brayns.set_renderer_params(params)"
   ]
  },
  {
   "cell_type": "code",
   "execution_count": 49,
   "metadata": {},
   "outputs": [
    {
     "data": {
      "text/plain": [
       "True"
      ]
     },
     "execution_count": 49,
     "metadata": {},
     "output_type": "execute_result"
    }
   ],
   "source": [
    "brayns.set_environment_map('/gpfs/bbp.cscs.ch/project/proj3/resources/envmap/0101.jpg')"
   ]
  },
  {
   "cell_type": "code",
   "execution_count": null,
   "metadata": {},
   "outputs": [],
   "source": [
    "img = brayns.image(\n",
    "    format='png', quality=100, samples_per_pixel=16, size=(800,600))"
   ]
  },
  {
   "cell_type": "markdown",
   "metadata": {},
   "source": [
    "## Add grid"
   ]
  },
  {
   "cell_type": "code",
   "execution_count": null,
   "metadata": {},
   "outputs": [],
   "source": [
    "circuit_explorer.add_grid(colored=True, show_axis=False, opacity=0.5,\n",
    "    min_value=-20000, max_value=20000, interval=1000)"
   ]
  },
  {
   "cell_type": "markdown",
   "metadata": {},
   "source": [
    "## Camera path"
   ]
  },
  {
   "cell_type": "code",
   "execution_count": null,
   "metadata": {},
   "outputs": [],
   "source": [
    "control_points = list()"
   ]
  },
  {
   "cell_type": "code",
   "execution_count": null,
   "metadata": {},
   "outputs": [],
   "source": [
    "control_points.append(circuit_explorer.get_camera())"
   ]
  },
  {
   "cell_type": "code",
   "execution_count": null,
   "metadata": {},
   "outputs": [],
   "source": [
    "control_points"
   ]
  },
  {
   "cell_type": "code",
   "execution_count": null,
   "metadata": {},
   "outputs": [],
   "source": [
    "camera_path = CameraPathHandler(control_points, 100, 100)"
   ]
  },
  {
   "cell_type": "code",
   "execution_count": null,
   "metadata": {},
   "outputs": [],
   "source": [
    "camera_path.get_key_frame(10)"
   ]
  },
  {
   "cell_type": "code",
   "execution_count": null,
   "metadata": {},
   "outputs": [],
   "source": [
    "for i in range(camera_path.get_nb_frames()):\n",
    "#     import time\n",
    "#     time.sleep(0.1)\n",
    "    kf = camera_path.get_key_frame(i)\n",
    "    circuit_explorer.set_camera(origin=kf[0], direction=kf[1], up=kf[2])"
   ]
  },
  {
   "cell_type": "markdown",
   "metadata": {},
   "source": [
    "## Export movie"
   ]
  },
  {
   "cell_type": "code",
   "execution_count": null,
   "metadata": {},
   "outputs": [],
   "source": [
    "animation_frames=list()\n",
    "camera_definitions = list()\n",
    "for i in range(camera_path.get_nb_frames()):\n",
    "    animation_frames.append(0)\n",
    "    camera_definitions.append(camera_path.get_key_frame(i))"
   ]
  },
  {
   "cell_type": "code",
   "execution_count": null,
   "metadata": {},
   "outputs": [],
   "source": [
    "brayns.set_application_parameters(viewport=[800,600])"
   ]
  },
  {
   "cell_type": "code",
   "execution_count": null,
   "metadata": {},
   "outputs": [],
   "source": [
    "circuit_explorer.export_frames_to_disk(\n",
    "    animation_frames=animation_frames, \n",
    "    camera_definitions=camera_definitions, \n",
    "    path='/gpfs/bbp.cscs.ch/project/proj3/projects/mopro/tmp/normals/', \n",
    "    samples_per_pixel=1)"
   ]
  },
  {
   "cell_type": "code",
   "execution_count": null,
   "metadata": {},
   "outputs": [],
   "source": [
    "circuit_explorer.cancel_frames_export()"
   ]
  },
  {
   "cell_type": "code",
   "execution_count": 69,
   "metadata": {},
   "outputs": [
    {
     "data": {
      "text/plain": [
       "{'aperture_radius': 0.0,\n",
       " 'aspect': 2.9767441860465116,\n",
       " 'enable_clipping_planes': True,\n",
       " 'focus_distance': 1.0,\n",
       " 'fovy': 45.0}"
      ]
     },
     "execution_count": 69,
     "metadata": {},
     "output_type": "execute_result"
    }
   ],
   "source": [
    "cam = brayns.get_camera_params()\n",
    "cam"
   ]
  },
  {
   "cell_type": "code",
   "execution_count": 71,
   "metadata": {},
   "outputs": [],
   "source": [
    "brayns.reset_camera()"
   ]
  },
  {
   "cell_type": "code",
   "execution_count": 81,
   "metadata": {},
   "outputs": [
    {
     "data": {
      "text/plain": [
       "52.1266642916743"
      ]
     },
     "execution_count": 81,
     "metadata": {},
     "output_type": "execute_result"
    }
   ],
   "source": [
    "circuit_explorer.get_focal_distance((.5, .5))"
   ]
  },
  {
   "cell_type": "code",
   "execution_count": 83,
   "metadata": {},
   "outputs": [
    {
     "data": {
      "text/plain": [
       "{'hit': False, 'position': [0.0, 0.0, 0.0]}"
      ]
     },
     "execution_count": 83,
     "metadata": {},
     "output_type": "execute_result"
    }
   ],
   "source": [
    "brayns.inspect((.5,.5))"
   ]
  },
  {
   "cell_type": "code",
   "execution_count": 92,
   "metadata": {},
   "outputs": [
    {
     "data": {
      "text/plain": [
       "{'ids': [0, 18446744073709551614, 18446744073709551615]}"
      ]
     },
     "execution_count": 92,
     "metadata": {},
     "output_type": "execute_result"
    }
   ],
   "source": [
    "params = dict()\n",
    "params['id'] = 0\n",
    "brayns.rockets_client.request('getMaterialIds', params=params)\n"
   ]
  },
  {
   "cell_type": "code",
   "execution_count": null,
   "metadata": {},
   "outputs": [],
   "source": []
  }
 ],
 "metadata": {
  "kernelspec": {
   "display_name": "Python 3",
   "language": "python",
   "name": "python3"
  },
  "language_info": {
   "codemirror_mode": {
    "name": "ipython",
    "version": 3
   },
   "file_extension": ".py",
   "mimetype": "text/x-python",
   "name": "python",
   "nbconvert_exporter": "python",
   "pygments_lexer": "ipython3",
   "version": "3.6.8"
  }
 },
 "nbformat": 4,
 "nbformat_minor": 2
}
